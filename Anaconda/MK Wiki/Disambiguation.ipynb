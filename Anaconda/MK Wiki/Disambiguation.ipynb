{
 "cells": [
  {
   "cell_type": "code",
   "execution_count": 1,
   "id": "e7a11704-05b8-4516-a860-a2afb1e1017e",
   "metadata": {},
   "outputs": [
    {
     "name": "stderr",
     "output_type": "stream",
     "text": [
      "C:\\Users\\93658\\anaconda3\\Lib\\site-packages\\pywikibot\\__init__.py:216: FamilyMaintenanceWarning: Name of family marble_kingdoms must be ASCII letters and digits [a-zA-Z0-9]\n",
      "  fam = Family.load(fam)\n",
      "Logging in to marble_kingdoms:en as Louisa-Bot@Louisa-Bot\n"
     ]
    }
   ],
   "source": [
    "import pywikibot as pwb\n",
    "import webbrowser as wb\n",
    "import pandas as pd\n",
    "import requests\n",
    "import re\n",
    "import os\n",
    "\n",
    "site = pwb.Site(\"en\", \"marble_kingdoms\")  # (language_code, family)\n",
    "site.login()"
   ]
  },
  {
   "cell_type": "code",
   "execution_count": 2,
   "id": "6a972af7-d054-4daa-8152-7ad6f601d106",
   "metadata": {},
   "outputs": [
    {
     "data": {
      "text/plain": [
       "{'Cro': 'Cro (disambiguation)',\n",
       " 'Cro/MK 12': 'Cro (MK 12)',\n",
       " 'Cro/MK 21': 'Cro (MK 21)',\n",
       " 'Faldron': 'Faldron (disambiguation)',\n",
       " 'Faldron/MK 12.5': 'Faldron (MK 12.5)',\n",
       " 'Faldron/MK 28': 'Faldron (MK 28)',\n",
       " 'Haikodo': 'Haikodo (disambiguation)',\n",
       " 'Haikodo/MK 28.5': 'Haikodo (MK 28.5)',\n",
       " 'Haikodo/MK 29': 'Haikodo (MK 29)',\n",
       " 'Jacklooney': 'Jacklooney (disambiguation)',\n",
       " 'Jacklooney/MK 29': 'Jacklooney (MK 29)',\n",
       " 'Jacklooney/MK 32': 'Jacklooney (MK 32)',\n",
       " 'Joounii': 'Joounii (disambiguation)',\n",
       " 'Joounii/MK 29': 'Joounii (MK 29)',\n",
       " 'Joounii/MK 32': 'Joounii (MK 32)',\n",
       " 'JYAR': 'JYAR (disambiguation)',\n",
       " 'JYAR/MK 21': 'JYAR (MK 21)',\n",
       " 'JYAR/MK 31': 'JYAR (MK 31)',\n",
       " 'Kall Moss': 'Kall Moss (disambiguation)',\n",
       " 'Kall Moss/MK 20': 'Kall Moss (MK 20)',\n",
       " 'Kall Moss/MK 29': 'Kall Moss (MK 29)',\n",
       " 'Kall Moss/MK 31': 'Kall Moss (MK 31)',\n",
       " 'Leea': 'Leea (disambiguation)',\n",
       " 'Leea/MK 27': 'Leea (MK 27)',\n",
       " 'Leea/MK 29': 'Leea (MK 29)',\n",
       " 'Mireille': 'Mireille (disambiguation)',\n",
       " 'Mireille/MK 5': 'Mireille (MK 5)',\n",
       " 'Mireille/MK 8': 'Mireille (MK 8)',\n",
       " 'Nauzeous': 'Nauzeous (disambiguation)',\n",
       " 'Nauzeous/MK 28': 'Nauzeous (MK 28)',\n",
       " 'Nauzeous/MK 28.5': 'Nauzeous (MK 28.5)',\n",
       " 'Pueranus': 'Pueranus (disambiguation)',\n",
       " 'Pueranus/MK 28': 'Pueranus (MK 28)',\n",
       " 'Pueranus/MK 28.5': 'Pueranus (MK 28.5)',\n",
       " 'Rojo Nico II': 'Rojo Nico II (disambiguation)',\n",
       " 'Rojo Nico II/MK 26': 'Rojo Nico II (MK 26)',\n",
       " 'Rojo Nico II/MK 30': 'Rojo Nico II (MK 30)',\n",
       " 'Sofjet II': 'Sofjet II (disambiguation)',\n",
       " 'Sofjet II/MK 29': 'Sofjet II (MK 29)',\n",
       " 'Sofjet II/MK 32': 'Sofjet II (MK 32)',\n",
       " 'Stippo': 'Stippo (disambiguation)',\n",
       " 'Stippo/MK 25.5': 'Stippo (MK 25.5)',\n",
       " 'Stippo/MK 27': 'Stippo (MK 27)',\n",
       " 'Verbole': 'Verbole (disambiguation)',\n",
       " 'Verbole/MK 8': 'Verbole (MK 8)',\n",
       " 'Verbole/MK 23': 'Verbole (MK 23)'}"
      ]
     },
     "execution_count": 2,
     "metadata": {},
     "output_type": "execute_result"
    }
   ],
   "source": [
    "'''\n",
    "disambig={'Cro/MK 12':'Cro (MK 12)',\n",
    "         'Cro/MK 21':'Cro (MK 21)',\n",
    "         'Cro':'Cro (disambiguation)'}\n",
    "'''\n",
    "disambig={}\n",
    "\n",
    "def add_dab(name,epis):\n",
    "    global disambig\n",
    "    disambig[name]=name+' (disambiguation)'\n",
    "    for epi in epis:\n",
    "        disambig[name+'/MK '+str(epi)]='{} (MK {})'.format(name,epi)\n",
    "\n",
    "add_dab('Cro',[12,21])\n",
    "add_dab('Faldron',[12.5,28])\n",
    "add_dab('Haikodo',[28.5,29])\n",
    "add_dab('Jacklooney',[29,32])\n",
    "add_dab('Joounii',[29,32])\n",
    "add_dab('JYAR',[21,31])\n",
    "add_dab('Kall Moss',[20,29,31])\n",
    "add_dab('Leea',[27,29])\n",
    "add_dab('Mireille',[5,8])\n",
    "add_dab('Nauzeous',[28,28.5])\n",
    "add_dab('Pueranus',[28,28.5])\n",
    "add_dab('Rojo Nico II',[26,30])\n",
    "add_dab('Sofjet II',[29,32])\n",
    "add_dab('Stippo',[25.5,27])\n",
    "add_dab('Verbole',[8,23])\n",
    "\n",
    "disambig"
   ]
  },
  {
   "cell_type": "code",
   "execution_count": 3,
   "id": "475d5253-6e05-4db5-833c-10a07e00ea81",
   "metadata": {},
   "outputs": [],
   "source": [
    "disambig = {'Cro': 'Cro (disambiguation)',\n",
    " 'Cro/MK 12': 'Cro (MK 12)',\n",
    " 'Cro/MK 21': 'Cro (MK 21)',\n",
    " 'Faldron': 'Faldron (disambiguation)',\n",
    " 'Faldron/MK 12.5': 'Faldron (MK 12.5)',\n",
    " 'Faldron/MK 28': 'Faldron (MK 28)',\n",
    " 'Haikodo': 'Haikodo (disambiguation)',\n",
    " 'Haikodo/MK 28.5': 'Haikodo (MK 28.5)',\n",
    " 'Haikodo/MK 29': 'Haikodo (MK 29)',\n",
    " 'Jacklooney': 'Jacklooney (disambiguation)',\n",
    " 'Jacklooney/MK 29': 'Jacklooney II (MK 29)',\n",
    " 'Jacklooney/MK 32': 'Jacklooney II (MK 32)',\n",
    " 'Joounii II': 'Joounii (disambiguation)',\n",
    " 'Joounii II/MK 29': 'Joounii II (MK 29)',\n",
    " 'Joounii II/MK 31': 'Joounii II (MK 31)',\n",
    " 'JYAR/MK 21': 'JYAR III (MK 21)',\n",
    " 'JYAR/MK 31': 'JYAR III (MK 31)',\n",
    " 'Kall Moss': 'Kall Moss (disambiguation)',\n",
    " 'Kall Moss/MK 20': 'Kall Moss (MK 20)',\n",
    " 'Kall Moss/MK 29': 'Kall Moss II (MK 29)',\n",
    " 'Kall Moss/MK 31': 'Kall Moss II (MK 31)',\n",
    " 'Leea': 'Leea (disambiguation)',\n",
    " 'Leea/MK 27': 'Leea (MK 27)',\n",
    " 'Leea/MK 29': 'Leea (MK 29)',\n",
    " 'Mireille': 'Mireille (disambiguation)',\n",
    " 'Mireille/MK 5': 'Mireille (MK 5)',\n",
    " 'Mireille/MK 8': 'Mireille (MK 8)',\n",
    " 'Nauzeous': 'Nauzeous (disambiguation)',\n",
    " 'Nauzeous/MK 28': 'Nauzeous (MK 28)',\n",
    " 'Nauzeous/MK 28.5': 'Nauzeous (MK 28.5)',\n",
    " 'Pueranus': 'Pueranus (disambiguation)',\n",
    " 'Pueranus/MK 28': 'Pueranus (MK 28)',\n",
    " 'Pueranus/MK 28.5': 'Pueranus (MK 28.5)',\n",
    " 'Rojo Nico II': 'Rojo Nico (disambiguation)',\n",
    " 'Rojo Nico II/MK 26': 'Rojo Nico II (MK 26)',\n",
    " 'Rojo Nico II/MK 30': 'Rojo Nico II (MK 30)',\n",
    " 'Sofjet II': 'Sofjet (disambiguation)',\n",
    " 'Sofjet II/MK 29': 'Sofjet II (MK 29)',\n",
    " 'Sofjet II/MK 32': 'Sofjet II (MK 32)',\n",
    " 'Stippo': 'Stippo (disambiguation)',\n",
    " 'Stippo/MK 25.5': 'Stippo (MK 25.5)',\n",
    " 'Stippo/MK 27': 'Stippo (MK 27)',\n",
    " 'Verbole': 'Verbole (disambiguation)',\n",
    " 'Verbole/MK 8': 'Verbole (MK 8)',\n",
    " 'Verbole/MK 23': 'Verbole (MK 23)'} "
   ]
  },
  {
   "cell_type": "code",
   "execution_count": 14,
   "id": "35664e0f-33a7-4331-8799-295bfb2a1961",
   "metadata": {},
   "outputs": [],
   "source": [
    "def verify_move(old_title, new_title):\n",
    "    \"\"\"Verify if a page was successfully moved\"\"\"\n",
    "    old_page = pwb.Page(site, old_title)\n",
    "    new_page = pwb.Page(site, new_title)\n",
    "    \n",
    "    # Case 1: New page exists with content\n",
    "    if new_page.exists() and not new_page.isRedirectPage():\n",
    "        return True\n",
    "    \n",
    "    # Case 2: Original page is now a redirect to new page\n",
    "    if old_page.exists() and old_page.isRedirectPage():\n",
    "        try:\n",
    "            if old_page.getRedirectTarget().title() == new_page.title():\n",
    "                return True\n",
    "        except pwb.exceptions.Error:\n",
    "            pass\n",
    "    \n",
    "    return False"
   ]
  },
  {
   "cell_type": "code",
   "execution_count": 12,
   "id": "f264f8da-1f9f-469d-93ed-7798b20b1c75",
   "metadata": {},
   "outputs": [],
   "source": [
    "def safe_move(old_title, new_title, reason, max_retries=2):\n",
    "    \"\"\"Move page with verification and retry logic\"\"\"\n",
    "    for attempt in range(max_retries):\n",
    "        try:\n",
    "            # First check if already successfully moved\n",
    "            if verify_move(old_title, new_title):\n",
    "                print(f\"✓ Already moved: {old_title} → {new_title}\")\n",
    "                return True\n",
    "                \n",
    "            old_page = pwb.Page(site, old_title)\n",
    "            new_page = pwb.Page(site, new_title)\n",
    "            \n",
    "            # Handle circular redirects\n",
    "            if (new_page.exists() and new_page.isRedirectPage() and \n",
    "                new_page.getRedirectTarget().title() == old_title):\n",
    "                new_page.delete(reason=\"Removing circular redirect\", prompt=False)\n",
    "                print(f\"♻ Deleted circular redirect: {new_title}\")\n",
    "            \n",
    "            # Perform the move\n",
    "            old_page.move(new_title, reason=reason, movetalk=True, noredirect=False)\n",
    "            \n",
    "            # Verify success\n",
    "            if verify_move(old_title, new_title):\n",
    "                print(f\"✓ Successfully moved: {old_title} → {new_title}\")\n",
    "                return True\n",
    "            else:\n",
    "                print(f\"⚠ Move completed but verification failed: {old_title}\")\n",
    "                \n",
    "        except pwb.exceptions.Error as e:\n",
    "            print(f\"✗ Attempt {attempt+1} failed for {old_title}: {str(e)}\")\n",
    "            if attempt == max_retries - 1:\n",
    "                log_failed_move(old_title, new_title, str(e))\n",
    "    \n",
    "    return False"
   ]
  },
  {
   "cell_type": "code",
   "execution_count": 19,
   "id": "8f863dde-10b8-4719-9f3a-adabdd889cbb",
   "metadata": {},
   "outputs": [
    {
     "name": "stdout",
     "output_type": "stream",
     "text": [
      "✓ Already moved: Cro → Cro (disambiguation)\n",
      "✓ Already moved: Cro/MK 12 → Cro (MK 12)\n",
      "✓ Already moved: Cro/MK 21 → Cro (MK 21)\n",
      "✓ Already moved: Faldron → Faldron (disambiguation)\n",
      "✓ Already moved: Faldron/MK 12.5 → Faldron (MK 12.5)\n",
      "✓ Already moved: Faldron/MK 28 → Faldron (MK 28)\n",
      "✓ Already moved: Haikodo → Haikodo (disambiguation)\n",
      "✓ Already moved: Haikodo/MK 28.5 → Haikodo (MK 28.5)\n",
      "✓ Already moved: Haikodo/MK 29 → Haikodo (MK 29)\n",
      "✓ Already moved: Jacklooney → Jacklooney (disambiguation)\n",
      "✓ Already moved: Jacklooney/MK 29 → Jacklooney II (MK 29)\n",
      "✓ Already moved: Jacklooney/MK 32 → Jacklooney II (MK 32)\n",
      "✓ Already moved: Joounii II → Joounii (disambiguation)\n",
      "✓ Already moved: Joounii II/MK 29 → Joounii II (MK 29)\n",
      "✓ Successfully moved: Joounii II/MK 31 → Joounii II (MK 31)\n"
     ]
    },
    {
     "name": "stderr",
     "output_type": "stream",
     "text": [
      "Sleeping for 6.3 seconds, 2025-07-25 15:28:20\n"
     ]
    },
    {
     "name": "stdout",
     "output_type": "stream",
     "text": [
      "✓ Successfully moved: JYAR/MK 21 → JYAR III (MK 21)\n"
     ]
    },
    {
     "name": "stderr",
     "output_type": "stream",
     "text": [
      "Sleeping for 7.7 seconds, 2025-07-25 15:28:29\n"
     ]
    },
    {
     "name": "stdout",
     "output_type": "stream",
     "text": [
      "✓ Successfully moved: JYAR/MK 31 → JYAR III (MK 31)\n"
     ]
    },
    {
     "name": "stderr",
     "output_type": "stream",
     "text": [
      "Sleeping for 7.7 seconds, 2025-07-25 15:28:38\n"
     ]
    },
    {
     "name": "stdout",
     "output_type": "stream",
     "text": [
      "✓ Successfully moved: Kall Moss → Kall Moss (disambiguation)\n"
     ]
    },
    {
     "name": "stderr",
     "output_type": "stream",
     "text": [
      "Sleeping for 7.5 seconds, 2025-07-25 15:28:49\n"
     ]
    },
    {
     "name": "stdout",
     "output_type": "stream",
     "text": [
      "✓ Successfully moved: Kall Moss/MK 20 → Kall Moss (MK 20)\n"
     ]
    },
    {
     "name": "stderr",
     "output_type": "stream",
     "text": [
      "Sleeping for 7.1 seconds, 2025-07-25 15:28:59\n"
     ]
    },
    {
     "name": "stdout",
     "output_type": "stream",
     "text": [
      "✓ Successfully moved: Kall Moss/MK 29 → Kall Moss II (MK 29)\n"
     ]
    },
    {
     "name": "stderr",
     "output_type": "stream",
     "text": [
      "Sleeping for 7.3 seconds, 2025-07-25 15:29:09\n"
     ]
    },
    {
     "name": "stdout",
     "output_type": "stream",
     "text": [
      "✓ Successfully moved: Kall Moss/MK 31 → Kall Moss II (MK 31)\n"
     ]
    },
    {
     "name": "stderr",
     "output_type": "stream",
     "text": [
      "Sleeping for 7.5 seconds, 2025-07-25 15:29:19\n"
     ]
    },
    {
     "name": "stdout",
     "output_type": "stream",
     "text": [
      "✓ Successfully moved: Leea → Leea (disambiguation)\n"
     ]
    },
    {
     "name": "stderr",
     "output_type": "stream",
     "text": [
      "Sleeping for 7.4 seconds, 2025-07-25 15:29:29\n"
     ]
    },
    {
     "name": "stdout",
     "output_type": "stream",
     "text": [
      "✓ Successfully moved: Leea/MK 27 → Leea (MK 27)\n"
     ]
    },
    {
     "name": "stderr",
     "output_type": "stream",
     "text": [
      "Sleeping for 6.5 seconds, 2025-07-25 15:29:40\n"
     ]
    },
    {
     "name": "stdout",
     "output_type": "stream",
     "text": [
      "✓ Successfully moved: Leea/MK 29 → Leea (MK 29)\n"
     ]
    },
    {
     "name": "stderr",
     "output_type": "stream",
     "text": [
      "Sleeping for 7.5 seconds, 2025-07-25 15:29:49\n"
     ]
    },
    {
     "name": "stdout",
     "output_type": "stream",
     "text": [
      "✓ Successfully moved: Mireille → Mireille (disambiguation)\n"
     ]
    },
    {
     "name": "stderr",
     "output_type": "stream",
     "text": [
      "Sleeping for 7.4 seconds, 2025-07-25 15:29:59\n"
     ]
    },
    {
     "name": "stdout",
     "output_type": "stream",
     "text": [
      "✓ Successfully moved: Mireille/MK 5 → Mireille (MK 5)\n"
     ]
    },
    {
     "name": "stderr",
     "output_type": "stream",
     "text": [
      "Sleeping for 6.9 seconds, 2025-07-25 15:30:09\n"
     ]
    },
    {
     "name": "stdout",
     "output_type": "stream",
     "text": [
      "✓ Successfully moved: Mireille/MK 8 → Mireille (MK 8)\n"
     ]
    },
    {
     "name": "stderr",
     "output_type": "stream",
     "text": [
      "Sleeping for 7.5 seconds, 2025-07-25 15:30:19\n"
     ]
    },
    {
     "name": "stdout",
     "output_type": "stream",
     "text": [
      "✓ Successfully moved: Nauzeous → Nauzeous (disambiguation)\n"
     ]
    },
    {
     "name": "stderr",
     "output_type": "stream",
     "text": [
      "Sleeping for 7.5 seconds, 2025-07-25 15:30:29\n"
     ]
    },
    {
     "name": "stdout",
     "output_type": "stream",
     "text": [
      "✓ Successfully moved: Nauzeous/MK 28 → Nauzeous (MK 28)\n"
     ]
    },
    {
     "name": "stderr",
     "output_type": "stream",
     "text": [
      "Sleeping for 6.5 seconds, 2025-07-25 15:30:40\n"
     ]
    },
    {
     "name": "stdout",
     "output_type": "stream",
     "text": [
      "✓ Successfully moved: Nauzeous/MK 28.5 → Nauzeous (MK 28.5)\n"
     ]
    },
    {
     "name": "stderr",
     "output_type": "stream",
     "text": [
      "Sleeping for 7.4 seconds, 2025-07-25 15:30:49\n"
     ]
    },
    {
     "name": "stdout",
     "output_type": "stream",
     "text": [
      "✓ Successfully moved: Pueranus → Pueranus (disambiguation)\n"
     ]
    },
    {
     "name": "stderr",
     "output_type": "stream",
     "text": [
      "Sleeping for 7.5 seconds, 2025-07-25 15:30:59\n"
     ]
    },
    {
     "name": "stdout",
     "output_type": "stream",
     "text": [
      "✓ Successfully moved: Pueranus/MK 28 → Pueranus (MK 28)\n"
     ]
    },
    {
     "name": "stderr",
     "output_type": "stream",
     "text": [
      "Sleeping for 7.0 seconds, 2025-07-25 15:31:09\n"
     ]
    },
    {
     "name": "stdout",
     "output_type": "stream",
     "text": [
      "✓ Successfully moved: Pueranus/MK 28.5 → Pueranus (MK 28.5)\n"
     ]
    },
    {
     "name": "stderr",
     "output_type": "stream",
     "text": [
      "Sleeping for 7.5 seconds, 2025-07-25 15:31:19\n"
     ]
    },
    {
     "name": "stdout",
     "output_type": "stream",
     "text": [
      "✓ Successfully moved: Rojo Nico II → Rojo Nico (disambiguation)\n"
     ]
    },
    {
     "name": "stderr",
     "output_type": "stream",
     "text": [
      "Sleeping for 7.1 seconds, 2025-07-25 15:31:29\n"
     ]
    },
    {
     "name": "stdout",
     "output_type": "stream",
     "text": [
      "✓ Successfully moved: Rojo Nico II/MK 26 → Rojo Nico II (MK 26)\n"
     ]
    },
    {
     "name": "stderr",
     "output_type": "stream",
     "text": [
      "Sleeping for 7.0 seconds, 2025-07-25 15:31:39\n"
     ]
    },
    {
     "name": "stdout",
     "output_type": "stream",
     "text": [
      "✓ Successfully moved: Rojo Nico II/MK 30 → Rojo Nico II (MK 30)\n"
     ]
    },
    {
     "name": "stderr",
     "output_type": "stream",
     "text": [
      "Sleeping for 7.3 seconds, 2025-07-25 15:31:49\n"
     ]
    },
    {
     "name": "stdout",
     "output_type": "stream",
     "text": [
      "✓ Successfully moved: Sofjet II → Sofjet (disambiguation)\n"
     ]
    },
    {
     "name": "stderr",
     "output_type": "stream",
     "text": [
      "Sleeping for 7.3 seconds, 2025-07-25 15:31:59\n"
     ]
    },
    {
     "name": "stdout",
     "output_type": "stream",
     "text": [
      "✓ Successfully moved: Sofjet II/MK 29 → Sofjet II (MK 29)\n"
     ]
    },
    {
     "name": "stderr",
     "output_type": "stream",
     "text": [
      "Sleeping for 7.1 seconds, 2025-07-25 15:32:09\n"
     ]
    },
    {
     "name": "stdout",
     "output_type": "stream",
     "text": [
      "✓ Successfully moved: Sofjet II/MK 32 → Sofjet II (MK 32)\n"
     ]
    },
    {
     "name": "stderr",
     "output_type": "stream",
     "text": [
      "Sleeping for 7.3 seconds, 2025-07-25 15:32:19\n"
     ]
    },
    {
     "name": "stdout",
     "output_type": "stream",
     "text": [
      "✓ Successfully moved: Stippo → Stippo (disambiguation)\n"
     ]
    },
    {
     "name": "stderr",
     "output_type": "stream",
     "text": [
      "Sleeping for 7.5 seconds, 2025-07-25 15:32:29\n"
     ]
    },
    {
     "name": "stdout",
     "output_type": "stream",
     "text": [
      "✓ Successfully moved: Stippo/MK 25.5 → Stippo (MK 25.5)\n"
     ]
    },
    {
     "name": "stderr",
     "output_type": "stream",
     "text": [
      "Sleeping for 7.3 seconds, 2025-07-25 15:32:39\n"
     ]
    },
    {
     "name": "stdout",
     "output_type": "stream",
     "text": [
      "✓ Successfully moved: Stippo/MK 27 → Stippo (MK 27)\n"
     ]
    },
    {
     "name": "stderr",
     "output_type": "stream",
     "text": [
      "Can't delete [[en:Verbole (disambiguation)]]; do you want to mark it for\n",
      "deletion instead? ([y]es, [N]o, [a]ll): "
     ]
    },
    {
     "name": "stdout",
     "output_type": "stream",
     "text": [
      "♻ Deleted circular redirect: Verbole (disambiguation)\n"
     ]
    },
    {
     "name": "stderr",
     "output_type": "stream",
     "text": [
      "Sleeping for 6.9 seconds, 2025-07-25 15:32:49\n"
     ]
    },
    {
     "name": "stdout",
     "output_type": "stream",
     "text": [
      "✓ Successfully moved: Verbole → Verbole (disambiguation)\n"
     ]
    },
    {
     "name": "stderr",
     "output_type": "stream",
     "text": [
      "Sleeping for 7.6 seconds, 2025-07-25 15:32:59\n"
     ]
    },
    {
     "name": "stdout",
     "output_type": "stream",
     "text": [
      "✓ Successfully moved: Verbole/MK 8 → Verbole (MK 8)\n"
     ]
    },
    {
     "name": "stderr",
     "output_type": "stream",
     "text": [
      "Sleeping for 7.1 seconds, 2025-07-25 15:33:09\n"
     ]
    },
    {
     "name": "stdout",
     "output_type": "stream",
     "text": [
      "✓ Successfully moved: Verbole/MK 23 → Verbole (MK 23)\n"
     ]
    }
   ],
   "source": [
    "# Example usage\n",
    "\n",
    "# ! ! ! ! MASS EDIT WARNING ! ! ! !\n",
    "for i,j in disambig.items():\n",
    "    safe_move(i, j, \"Mass move reorganization\")\n",
    "# . . . . Stop Warning . . . ."
   ]
  },
  {
   "cell_type": "code",
   "execution_count": 26,
   "id": "0133a089-9a9e-481e-ae03-144cbbd0ce31",
   "metadata": {},
   "outputs": [
    {
     "name": "stdout",
     "output_type": "stream",
     "text": [
      "=== MARBLE KINGDOMS PAGE CORRECTION TOOL ===\n",
      "=== FINDING INCORRECTLY MOVED PAGES ===\n",
      "\n",
      "Incorrect pages found:\n",
      "          original                           incorrect               correct\n",
      "         Cro/MK 12          Cro (disambiguation)/MK 12           Cro (MK 12)\n",
      "         Cro/MK 21          Cro (disambiguation)/MK 21           Cro (MK 21)\n",
      "   Faldron/MK 12.5    Faldron (disambiguation)/MK 12.5     Faldron (MK 12.5)\n",
      "     Faldron/MK 28      Faldron (disambiguation)/MK 28       Faldron (MK 28)\n",
      "   Haikodo/MK 28.5    Haikodo (disambiguation)/MK 28.5     Haikodo (MK 28.5)\n",
      "     Haikodo/MK 29      Haikodo (disambiguation)/MK 29       Haikodo (MK 29)\n",
      "  Jacklooney/MK 29   Jacklooney (disambiguation)/MK 29 Jacklooney II (MK 29)\n",
      "  Jacklooney/MK 32   Jacklooney (disambiguation)/MK 32 Jacklooney II (MK 32)\n",
      "  Joounii II/MK 29      Joounii (disambiguation)/MK 29    Joounii II (MK 29)\n",
      "  Joounii II/MK 31      Joounii (disambiguation)/MK 31    Joounii II (MK 31)\n",
      "   Kall Moss/MK 20    Kall Moss (disambiguation)/MK 20     Kall Moss (MK 20)\n",
      "   Kall Moss/MK 29    Kall Moss (disambiguation)/MK 29  Kall Moss II (MK 29)\n",
      "   Kall Moss/MK 31    Kall Moss (disambiguation)/MK 31  Kall Moss II (MK 31)\n",
      "        Leea/MK 27         Leea (disambiguation)/MK 27          Leea (MK 27)\n",
      "        Leea/MK 29         Leea (disambiguation)/MK 29          Leea (MK 29)\n",
      "     Mireille/MK 5      Mireille (disambiguation)/MK 5       Mireille (MK 5)\n",
      "     Mireille/MK 8 Mireille (disambiguation)/MK 5/MK 8       Mireille (MK 8)\n",
      "     Mireille/MK 8      Mireille (disambiguation)/MK 8       Mireille (MK 8)\n",
      "    Nauzeous/MK 28     Nauzeous (disambiguation)/MK 28      Nauzeous (MK 28)\n",
      "  Nauzeous/MK 28.5   Nauzeous (disambiguation)/MK 28.5    Nauzeous (MK 28.5)\n",
      "    Pueranus/MK 28     Pueranus (disambiguation)/MK 28      Pueranus (MK 28)\n",
      "  Pueranus/MK 28.5   Pueranus (disambiguation)/MK 28.5    Pueranus (MK 28.5)\n",
      "Rojo Nico II/MK 26    Rojo Nico (disambiguation)/MK 26  Rojo Nico II (MK 26)\n",
      "Rojo Nico II/MK 30    Rojo Nico (disambiguation)/MK 30  Rojo Nico II (MK 30)\n",
      "   Sofjet II/MK 29       Sofjet (disambiguation)/MK 29     Sofjet II (MK 29)\n",
      "   Sofjet II/MK 32       Sofjet (disambiguation)/MK 32     Sofjet II (MK 32)\n",
      "    Stippo/MK 25.5     Stippo (disambiguation)/MK 25.5      Stippo (MK 25.5)\n",
      "      Stippo/MK 27       Stippo (disambiguation)/MK 27        Stippo (MK 27)\n",
      "     Verbole/MK 23      Verbole (disambiguation)/MK 23       Verbole (MK 23)\n",
      "      Verbole/MK 8       Verbole (disambiguation)/MK 8        Verbole (MK 8)\n"
     ]
    },
    {
     "name": "stdin",
     "output_type": "stream",
     "text": [
      "\n",
      "Proceed with corrections? (y/n):  y\n"
     ]
    },
    {
     "name": "stdout",
     "output_type": "stream",
     "text": [
      "\n",
      "=== CORRECTING PAGE MOVES ===\n",
      "\n",
      "Processing: Cro (disambiguation)/MK 12\n",
      "Should be: Cro (MK 12)\n",
      "Found redirect: Cro/MK 12 → Cro (MK 12)\n",
      "Reverted to original: Cro (MK 12)\n",
      "\n",
      "Processing: Cro (disambiguation)/MK 21\n",
      "Should be: Cro (MK 21)\n",
      "Found redirect: Cro/MK 21 → Cro (MK 21)\n"
     ]
    },
    {
     "name": "stderr",
     "output_type": "stream",
     "text": [
      "Sleeping for 6.0 seconds, 2025-07-25 17:26:30\n"
     ]
    },
    {
     "name": "stdout",
     "output_type": "stream",
     "text": [
      "Reverted to original: Cro (MK 21)\n",
      "\n",
      "Processing: Faldron (disambiguation)/MK 12.5\n",
      "Should be: Faldron (MK 12.5)\n",
      "Found redirect: Faldron/MK 12.5 → Faldron (MK 12.5)\n"
     ]
    },
    {
     "name": "stderr",
     "output_type": "stream",
     "text": [
      "Sleeping for 6.1 seconds, 2025-07-25 17:26:40\n"
     ]
    },
    {
     "name": "stdout",
     "output_type": "stream",
     "text": [
      "Reverted to original: Faldron (MK 12.5)\n",
      "\n",
      "Processing: Faldron (disambiguation)/MK 28\n",
      "Should be: Faldron (MK 28)\n",
      "Found redirect: Faldron/MK 28 → Faldron (MK 28)\n"
     ]
    },
    {
     "name": "stderr",
     "output_type": "stream",
     "text": [
      "Sleeping for 6.1 seconds, 2025-07-25 17:26:50\n"
     ]
    },
    {
     "name": "stdout",
     "output_type": "stream",
     "text": [
      "Reverted to original: Faldron (MK 28)\n",
      "\n",
      "Processing: Haikodo (disambiguation)/MK 28.5\n",
      "Should be: Haikodo (MK 28.5)\n",
      "Found redirect: Haikodo/MK 28.5 → Haikodo (MK 28.5)\n"
     ]
    },
    {
     "name": "stderr",
     "output_type": "stream",
     "text": [
      "Sleeping for 4.9 seconds, 2025-07-25 17:27:01\n"
     ]
    },
    {
     "name": "stdout",
     "output_type": "stream",
     "text": [
      "Reverted to original: Haikodo (MK 28.5)\n",
      "\n",
      "Processing: Haikodo (disambiguation)/MK 29\n",
      "Should be: Haikodo (MK 29)\n",
      "Found redirect: Haikodo/MK 29 → Haikodo (MK 29)\n"
     ]
    },
    {
     "name": "stderr",
     "output_type": "stream",
     "text": [
      "Sleeping for 6.0 seconds, 2025-07-25 17:27:10\n"
     ]
    },
    {
     "name": "stdout",
     "output_type": "stream",
     "text": [
      "Reverted to original: Haikodo (MK 29)\n",
      "\n",
      "Processing: Jacklooney (disambiguation)/MK 29\n",
      "Should be: Jacklooney II (MK 29)\n",
      "Found redirect: Jacklooney/MK 29 → Jacklooney II (MK 29)\n"
     ]
    },
    {
     "name": "stderr",
     "output_type": "stream",
     "text": [
      "Sleeping for 6.0 seconds, 2025-07-25 17:27:20\n"
     ]
    },
    {
     "name": "stdout",
     "output_type": "stream",
     "text": [
      "Reverted to original: Jacklooney II (MK 29)\n",
      "\n",
      "Processing: Jacklooney (disambiguation)/MK 32\n",
      "Should be: Jacklooney II (MK 32)\n",
      "Found redirect: Jacklooney/MK 32 → Jacklooney II (MK 32)\n"
     ]
    },
    {
     "name": "stderr",
     "output_type": "stream",
     "text": [
      "Sleeping for 5.6 seconds, 2025-07-25 17:27:30\n"
     ]
    },
    {
     "name": "stdout",
     "output_type": "stream",
     "text": [
      "Reverted to original: Jacklooney II (MK 32)\n",
      "\n",
      "Processing: Joounii (disambiguation)/MK 29\n",
      "Should be: Joounii II (MK 29)\n",
      "Found redirect: Joounii II/MK 29 → Joounii II (MK 29)\n"
     ]
    },
    {
     "name": "stderr",
     "output_type": "stream",
     "text": [
      "Sleeping for 6.1 seconds, 2025-07-25 17:27:40\n"
     ]
    },
    {
     "name": "stdout",
     "output_type": "stream",
     "text": [
      "Reverted to original: Joounii II (MK 29)\n",
      "\n",
      "Processing: Joounii (disambiguation)/MK 31\n",
      "Should be: Joounii II (MK 31)\n",
      "Found redirect: Joounii II/MK 31 → Joounii II (MK 31)\n"
     ]
    },
    {
     "name": "stderr",
     "output_type": "stream",
     "text": [
      "Sleeping for 5.6 seconds, 2025-07-25 17:27:50\n"
     ]
    },
    {
     "name": "stdout",
     "output_type": "stream",
     "text": [
      "Reverted to original: Joounii II (MK 31)\n",
      "\n",
      "Processing: Kall Moss (disambiguation)/MK 20\n",
      "Should be: Kall Moss (MK 20)\n",
      "Found redirect: Kall Moss/MK 20 → Kall Moss (MK 20)\n"
     ]
    },
    {
     "name": "stderr",
     "output_type": "stream",
     "text": [
      "Sleeping for 5.8 seconds, 2025-07-25 17:28:00\n"
     ]
    },
    {
     "name": "stdout",
     "output_type": "stream",
     "text": [
      "Reverted to original: Kall Moss (MK 20)\n",
      "\n",
      "Processing: Kall Moss (disambiguation)/MK 29\n",
      "Should be: Kall Moss II (MK 29)\n",
      "Found redirect: Kall Moss/MK 29 → Kall Moss II (MK 29)\n"
     ]
    },
    {
     "name": "stderr",
     "output_type": "stream",
     "text": [
      "Sleeping for 6.0 seconds, 2025-07-25 17:28:10\n"
     ]
    },
    {
     "name": "stdout",
     "output_type": "stream",
     "text": [
      "Reverted to original: Kall Moss II (MK 29)\n",
      "\n",
      "Processing: Kall Moss (disambiguation)/MK 31\n",
      "Should be: Kall Moss II (MK 31)\n",
      "Found redirect: Kall Moss/MK 31 → Kall Moss II (MK 31)\n"
     ]
    },
    {
     "name": "stderr",
     "output_type": "stream",
     "text": [
      "Sleeping for 6.0 seconds, 2025-07-25 17:28:20\n"
     ]
    },
    {
     "name": "stdout",
     "output_type": "stream",
     "text": [
      "Reverted to original: Kall Moss II (MK 31)\n",
      "\n",
      "Processing: Leea (disambiguation)/MK 27\n",
      "Should be: Leea (MK 27)\n",
      "Found redirect: Leea/MK 27 → Leea (MK 27)\n"
     ]
    },
    {
     "name": "stderr",
     "output_type": "stream",
     "text": [
      "Sleeping for 5.2 seconds, 2025-07-25 17:28:31\n"
     ]
    },
    {
     "name": "stdout",
     "output_type": "stream",
     "text": [
      "Reverted to original: Leea (MK 27)\n",
      "\n",
      "Processing: Leea (disambiguation)/MK 29\n",
      "Should be: Leea (MK 29)\n",
      "Found redirect: Leea/MK 29 → Leea (MK 29)\n"
     ]
    },
    {
     "name": "stderr",
     "output_type": "stream",
     "text": [
      "Sleeping for 5.9 seconds, 2025-07-25 17:28:40\n"
     ]
    },
    {
     "name": "stdout",
     "output_type": "stream",
     "text": [
      "Reverted to original: Leea (MK 29)\n",
      "\n",
      "Processing: Mireille (disambiguation)/MK 5\n",
      "Should be: Mireille (MK 5)\n",
      "Found redirect: Mireille/MK 5 → Mireille (MK 5)\n",
      "Deleting existing redirect at Mireille (MK 5)\n"
     ]
    },
    {
     "name": "stderr",
     "output_type": "stream",
     "text": [
      "Sleeping for 5.8 seconds, 2025-07-25 17:28:50\n",
      "Sleeping for 7.6 seconds, 2025-07-25 17:28:58\n"
     ]
    },
    {
     "name": "stdout",
     "output_type": "stream",
     "text": [
      "Reverted to original: Mireille (MK 5)\n",
      "Target page Mireille (MK 5) already exists\n",
      "\n",
      "Processing: Mireille (disambiguation)/MK 5/MK 8\n",
      "Should be: Mireille (MK 8)\n",
      "Found redirect: Mireille/MK 8 → Mireille (MK 8)\n",
      "Deleting existing redirect at Mireille (MK 8)\n"
     ]
    },
    {
     "name": "stderr",
     "output_type": "stream",
     "text": [
      "Sleeping for 5.0 seconds, 2025-07-25 17:29:11\n",
      "Sleeping for 7.6 seconds, 2025-07-25 17:29:18\n"
     ]
    },
    {
     "name": "stdout",
     "output_type": "stream",
     "text": [
      "Reverted to original: Mireille (MK 8)\n",
      "Target page Mireille (MK 8) already exists\n",
      "\n",
      "Processing: Mireille (disambiguation)/MK 8\n",
      "Should be: Mireille (MK 8)\n",
      "Deleting existing redirect at Mireille/MK 8\n"
     ]
    },
    {
     "name": "stderr",
     "output_type": "stream",
     "text": [
      "Sleeping for 4.9 seconds, 2025-07-25 17:29:31\n",
      "Sleeping for 7.6 seconds, 2025-07-25 17:29:38\n"
     ]
    },
    {
     "name": "stdout",
     "output_type": "stream",
     "text": [
      "Reverted to original: Mireille/MK 8\n",
      "Target page Mireille (MK 8) already exists\n",
      "\n",
      "Processing: Nauzeous (disambiguation)/MK 28\n",
      "Should be: Nauzeous (MK 28)\n",
      "Found redirect: Nauzeous/MK 28 → Nauzeous (MK 28)\n",
      "Deleting existing redirect at Nauzeous (MK 28)\n"
     ]
    },
    {
     "name": "stderr",
     "output_type": "stream",
     "text": [
      "Sleeping for 3.8 seconds, 2025-07-25 17:29:52\n",
      "Sleeping for 7.5 seconds, 2025-07-25 17:29:58\n"
     ]
    },
    {
     "name": "stdout",
     "output_type": "stream",
     "text": [
      "Reverted to original: Nauzeous (MK 28)\n",
      "Target page Nauzeous (MK 28) already exists\n",
      "\n",
      "Processing: Nauzeous (disambiguation)/MK 28.5\n",
      "Should be: Nauzeous (MK 28.5)\n",
      "Found redirect: Nauzeous/MK 28.5 → Nauzeous (MK 28.5)\n",
      "Deleting existing redirect at Nauzeous (MK 28.5)\n"
     ]
    },
    {
     "name": "stderr",
     "output_type": "stream",
     "text": [
      "Sleeping for 5.2 seconds, 2025-07-25 17:30:11\n",
      "Sleeping for 7.5 seconds, 2025-07-25 17:30:18\n"
     ]
    },
    {
     "name": "stdout",
     "output_type": "stream",
     "text": [
      "Reverted to original: Nauzeous (MK 28.5)\n",
      "Target page Nauzeous (MK 28.5) already exists\n",
      "\n",
      "Processing: Pueranus (disambiguation)/MK 28\n",
      "Should be: Pueranus (MK 28)\n",
      "Found redirect: Pueranus/MK 28 → Pueranus (MK 28)\n",
      "Deleting existing redirect at Pueranus (MK 28)\n"
     ]
    },
    {
     "name": "stderr",
     "output_type": "stream",
     "text": [
      "Sleeping for 5.1 seconds, 2025-07-25 17:30:31\n",
      "Sleeping for 7.7 seconds, 2025-07-25 17:30:38\n"
     ]
    },
    {
     "name": "stdout",
     "output_type": "stream",
     "text": [
      "Reverted to original: Pueranus (MK 28)\n",
      "Target page Pueranus (MK 28) already exists\n",
      "\n",
      "Processing: Pueranus (disambiguation)/MK 28.5\n",
      "Should be: Pueranus (MK 28.5)\n",
      "Found redirect: Pueranus/MK 28.5 → Pueranus (MK 28.5)\n",
      "Deleting existing redirect at Pueranus (MK 28.5)\n"
     ]
    },
    {
     "name": "stderr",
     "output_type": "stream",
     "text": [
      "Sleeping for 5.0 seconds, 2025-07-25 17:30:51\n",
      "Sleeping for 7.7 seconds, 2025-07-25 17:30:58\n",
      "ERROR: An error occurred for uri https://marble-kingdoms.fandom.com/api.php\n",
      "ERROR: Traceback (most recent call last):\n",
      "  File \"C:\\Users\\93658\\anaconda3\\Lib\\site-packages\\pywikibot\\data\\api\\_requests.py\", line 683, in _http_request\n",
      "    response = http.request(self.site, uri=uri,\n",
      "               ^^^^^^^^^^^^^^^^^^^^^^^^^^^^^^^^\n",
      "  File \"C:\\Users\\93658\\anaconda3\\Lib\\site-packages\\pywikibot\\comms\\http.py\", line 280, in request\n",
      "    r = fetch(baseuri, headers=headers, **kwargs)\n",
      "        ^^^^^^^^^^^^^^^^^^^^^^^^^^^^^^^^^^^^^^^^^\n",
      "  File \"C:\\Users\\93658\\anaconda3\\Lib\\site-packages\\pywikibot\\comms\\http.py\", line 452, in fetch\n",
      "    callback(response)\n",
      "  File \"C:\\Users\\93658\\anaconda3\\Lib\\site-packages\\pywikibot\\comms\\http.py\", line 338, in error_handling_callback\n",
      "    raise response from None\n",
      "  File \"C:\\Users\\93658\\anaconda3\\Lib\\site-packages\\pywikibot\\comms\\http.py\", line 443, in fetch\n",
      "    response = session.request(method, uri,\n",
      "               ^^^^^^^^^^^^^^^^^^^^^^^^^^^^\n",
      "  File \"C:\\Users\\93658\\anaconda3\\Lib\\site-packages\\requests\\sessions.py\", line 589, in request\n",
      "    resp = self.send(prep, **send_kwargs)\n",
      "           ^^^^^^^^^^^^^^^^^^^^^^^^^^^^^^\n",
      "  File \"C:\\Users\\93658\\anaconda3\\Lib\\site-packages\\requests\\sessions.py\", line 703, in send\n",
      "    r = adapter.send(request, **kwargs)\n",
      "        ^^^^^^^^^^^^^^^^^^^^^^^^^^^^^^^\n",
      "  File \"C:\\Users\\93658\\anaconda3\\Lib\\site-packages\\requests\\adapters.py\", line 694, in send\n",
      "    raise ProxyError(e, request=request)\n",
      "requests.exceptions.ProxyError: HTTPSConnectionPool(host='marble-kingdoms.fandom.com', port=443): Max retries exceeded with url: /api.php (Caused by ProxyError('Unable to connect to proxy', RemoteDisconnected('Remote end closed connection without response')))\n",
      "\n",
      "WARNING: Waiting 5.0 seconds before retrying.\n",
      "Sleeping for 4.7 seconds, 2025-07-25 17:31:11\n"
     ]
    },
    {
     "name": "stdout",
     "output_type": "stream",
     "text": [
      "Reverted to original: Pueranus (MK 28.5)\n",
      "Target page Pueranus (MK 28.5) already exists\n",
      "\n",
      "Processing: Rojo Nico (disambiguation)/MK 26\n",
      "Should be: Rojo Nico II (MK 26)\n",
      "Found redirect: Rojo Nico II/MK 26 → Rojo Nico II (MK 26)\n",
      "Deleting existing redirect at Rojo Nico II (MK 26)\n"
     ]
    },
    {
     "name": "stderr",
     "output_type": "stream",
     "text": [
      "Sleeping for 7.5 seconds, 2025-07-25 17:31:28\n"
     ]
    },
    {
     "name": "stdout",
     "output_type": "stream",
     "text": [
      "Reverted to original: Rojo Nico II (MK 26)\n",
      "Target page Rojo Nico II (MK 26) already exists\n",
      "\n",
      "Processing: Rojo Nico (disambiguation)/MK 30\n",
      "Should be: Rojo Nico II (MK 30)\n",
      "Found redirect: Rojo Nico II/MK 30 → Rojo Nico II (MK 30)\n",
      "Deleting existing redirect at Rojo Nico II (MK 30)\n"
     ]
    },
    {
     "name": "stderr",
     "output_type": "stream",
     "text": [
      "Sleeping for 5.1 seconds, 2025-07-25 17:31:41\n",
      "Sleeping for 7.5 seconds, 2025-07-25 17:31:48\n"
     ]
    },
    {
     "name": "stdout",
     "output_type": "stream",
     "text": [
      "Reverted to original: Rojo Nico II (MK 30)\n",
      "Target page Rojo Nico II (MK 30) already exists\n",
      "\n",
      "Processing: Sofjet (disambiguation)/MK 29\n",
      "Should be: Sofjet II (MK 29)\n",
      "Found redirect: Sofjet II/MK 29 → Sofjet II (MK 29)\n",
      "Deleting existing redirect at Sofjet II (MK 29)\n"
     ]
    },
    {
     "name": "stderr",
     "output_type": "stream",
     "text": [
      "Sleeping for 4.7 seconds, 2025-07-25 17:32:01\n",
      "Sleeping for 7.5 seconds, 2025-07-25 17:32:08\n"
     ]
    },
    {
     "name": "stdout",
     "output_type": "stream",
     "text": [
      "Reverted to original: Sofjet II (MK 29)\n",
      "Target page Sofjet II (MK 29) already exists\n",
      "\n",
      "Processing: Sofjet (disambiguation)/MK 32\n",
      "Should be: Sofjet II (MK 32)\n",
      "Found redirect: Sofjet II/MK 32 → Sofjet II (MK 32)\n",
      "Deleting existing redirect at Sofjet II (MK 32)\n"
     ]
    },
    {
     "name": "stderr",
     "output_type": "stream",
     "text": [
      "Sleeping for 5.1 seconds, 2025-07-25 17:32:21\n",
      "Sleeping for 7.6 seconds, 2025-07-25 17:32:28\n"
     ]
    },
    {
     "name": "stdout",
     "output_type": "stream",
     "text": [
      "Reverted to original: Sofjet II (MK 32)\n",
      "Target page Sofjet II (MK 32) already exists\n",
      "\n",
      "Processing: Stippo (disambiguation)/MK 25.5\n",
      "Should be: Stippo (MK 25.5)\n",
      "Found redirect: Stippo/MK 25.5 → Stippo (MK 25.5)\n",
      "Deleting existing redirect at Stippo (MK 25.5)\n"
     ]
    },
    {
     "name": "stderr",
     "output_type": "stream",
     "text": [
      "Sleeping for 5.4 seconds, 2025-07-25 17:32:41\n",
      "Sleeping for 7.6 seconds, 2025-07-25 17:32:48\n"
     ]
    },
    {
     "name": "stdout",
     "output_type": "stream",
     "text": [
      "Reverted to original: Stippo (MK 25.5)\n",
      "Target page Stippo (MK 25.5) already exists\n",
      "\n",
      "Processing: Stippo (disambiguation)/MK 27\n",
      "Should be: Stippo (MK 27)\n",
      "Found redirect: Stippo/MK 27 → Stippo (MK 27)\n",
      "Deleting existing redirect at Stippo (MK 27)\n"
     ]
    },
    {
     "name": "stderr",
     "output_type": "stream",
     "text": [
      "Sleeping for 5.3 seconds, 2025-07-25 17:33:01\n",
      "Sleeping for 7.6 seconds, 2025-07-25 17:33:08\n"
     ]
    },
    {
     "name": "stdout",
     "output_type": "stream",
     "text": [
      "Reverted to original: Stippo (MK 27)\n",
      "Target page Stippo (MK 27) already exists\n",
      "\n",
      "Processing: Verbole (disambiguation)/MK 23\n",
      "Should be: Verbole (MK 23)\n",
      "Found redirect: Verbole/MK 23 → Verbole (MK 23)\n",
      "Deleting existing redirect at Verbole (MK 23)\n"
     ]
    },
    {
     "name": "stderr",
     "output_type": "stream",
     "text": [
      "Sleeping for 4.9 seconds, 2025-07-25 17:33:21\n",
      "Sleeping for 7.7 seconds, 2025-07-25 17:33:28\n"
     ]
    },
    {
     "name": "stdout",
     "output_type": "stream",
     "text": [
      "Reverted to original: Verbole (MK 23)\n",
      "Target page Verbole (MK 23) already exists\n",
      "\n",
      "Processing: Verbole (disambiguation)/MK 8\n",
      "Should be: Verbole (MK 8)\n",
      "Found redirect: Verbole/MK 8 → Verbole (MK 8)\n",
      "Deleting existing redirect at Verbole (MK 8)\n"
     ]
    },
    {
     "name": "stderr",
     "output_type": "stream",
     "text": [
      "Sleeping for 5.2 seconds, 2025-07-25 17:33:41\n",
      "Sleeping for 7.7 seconds, 2025-07-25 17:33:48\n"
     ]
    },
    {
     "name": "stdout",
     "output_type": "stream",
     "text": [
      "Reverted to original: Verbole (MK 8)\n",
      "Target page Verbole (MK 8) already exists\n",
      "\n",
      "=== OPERATION COMPLETE ===\n"
     ]
    }
   ],
   "source": [
    "import time\n",
    "from collections import defaultdict\n",
    "\n",
    "def get_subpages(page_title):\n",
    "    \"\"\"Get all subpages of a given page using the API\"\"\"\n",
    "    params = {\n",
    "        'action': 'query',\n",
    "        'list': 'allpages',\n",
    "        'apnamespace': 0,\n",
    "        'apprefix': page_title + '/',\n",
    "        'aplimit': 'max',\n",
    "        'format': 'json'\n",
    "    }\n",
    "    \n",
    "    request = site._request(parameters=params)\n",
    "    result = request.submit()\n",
    "    \n",
    "    subpages = []\n",
    "    if 'query' in result and 'allpages' in result['query']:\n",
    "        for page in result['query']['allpages']:\n",
    "            subpages.append(pwb.Page(site, page['title']))\n",
    "    return subpages\n",
    "\n",
    "def extract_core_name(name):\n",
    "    \"\"\"Extract the core name without any MK or generation info\"\"\"\n",
    "    name = name.split('/')[0]\n",
    "    name = re.sub(r'\\s(I{1,3}|IV|V|VI{0,3}|IX|X)$', '', name)\n",
    "    return name.strip()\n",
    "\n",
    "def build_disambig_mapping():\n",
    "    \"\"\"Create mapping between core names and their disambiguation pages\"\"\"\n",
    "    mapping = defaultdict(dict)\n",
    "    \n",
    "    for original, new in disambig.items():\n",
    "        if '(disambiguation)' in new:\n",
    "            core = extract_core_name(original)\n",
    "            mapping[core]['disambig_page'] = new\n",
    "        elif '/MK' in original:\n",
    "            core = extract_core_name(original)\n",
    "            mapping[core]['mk_pages'] = mapping[core].get('mk_pages', []) + [(original, new)]\n",
    "    \n",
    "    return mapping\n",
    "\n",
    "def find_incorrect_subpages():\n",
    "    \"\"\"Find all incorrectly moved subpages\"\"\"\n",
    "    print(\"=== FINDING INCORRECTLY MOVED PAGES ===\")\n",
    "    incorrect_pages = []\n",
    "    \n",
    "    mapping = build_disambig_mapping()\n",
    "    \n",
    "    for core, data in mapping.items():\n",
    "        if 'disambig_page' not in data:\n",
    "            continue\n",
    "            \n",
    "        disambig_page_title = data['disambig_page']\n",
    "        subpages = get_subpages(disambig_page_title)\n",
    "        \n",
    "        for subpage in subpages:\n",
    "            subpage_title = subpage.title()\n",
    "            if '/MK' in subpage_title:\n",
    "                subpage_mk = subpage_title.split('/')[-1].strip()\n",
    "                \n",
    "                for original, correct in data.get('mk_pages', []):\n",
    "                    correct_mk = correct.split('(')[-1].split(')')[0].strip()\n",
    "                    \n",
    "                    if subpage_mk == correct_mk:\n",
    "                        incorrect_pages.append({\n",
    "                            'original': original,\n",
    "                            'incorrect': subpage_title,\n",
    "                            'correct': correct,\n",
    "                            'disambig_page': disambig_page_title\n",
    "                        })\n",
    "                        break\n",
    "    \n",
    "    return pd.DataFrame(incorrect_pages)\n",
    "\n",
    "def handle_redirect(page_title):\n",
    "    \"\"\"Check if page is a redirect and resolve it\"\"\"\n",
    "    page = pwb.Page(site, page_title)\n",
    "    if page.exists() and page.isRedirectPage():\n",
    "        try:\n",
    "            target = page.getRedirectTarget()\n",
    "            print(f\"Found redirect: {page_title} → {target.title()}\")\n",
    "            return target.title()\n",
    "        except:\n",
    "            pass\n",
    "    return page_title\n",
    "\n",
    "def revert_and_correct_moves(df, simulate=True):\n",
    "    \"\"\"Enhanced correction with redirect handling\"\"\"\n",
    "    print(\"\\n=== CORRECTING PAGE MOVES ===\")\n",
    "    \n",
    "    for _, row in df.iterrows():\n",
    "        print(f\"\\nProcessing: {row['incorrect']}\")\n",
    "        print(f\"Should be: {row['correct']}\")\n",
    "        \n",
    "        incorrect_page = pwb.Page(site, row['incorrect'])\n",
    "        correct_page = pwb.Page(site, row['correct'])\n",
    "        original_page_title = handle_redirect(row['original'])\n",
    "        original_page = pwb.Page(site, original_page_title)\n",
    "        content = None\n",
    "        \n",
    "        if simulate:\n",
    "            print(f\"SIMULATION: Would revert {row['incorrect']} to {original_page_title}\")\n",
    "            print(f\"SIMULATION: Would move {original_page_title} to {row['correct']}\")\n",
    "            continue\n",
    "            \n",
    "        try:\n",
    "            # Step 1: Revert back to original location\n",
    "            if incorrect_page.exists():\n",
    "                content = incorrect_page.text\n",
    "                \n",
    "                # Check if target exists and is a redirect\n",
    "                if original_page.exists() and original_page.isRedirectPage():\n",
    "                    print(f\"Deleting existing redirect at {original_page_title}\")\n",
    "                    original_page.delete(reason=\"Removing conflicting redirect\", prompt=False)\n",
    "                    time.sleep(2)\n",
    "                \n",
    "                incorrect_page.move(original_page_title,\n",
    "                                 reason=\"Reverting incorrect subpage creation\",\n",
    "                                 noredirect=True)\n",
    "                print(f\"Reverted to original: {original_page_title}\")\n",
    "                time.sleep(2)\n",
    "            \n",
    "            # Step 2: Move to correct location\n",
    "            if original_page.exists():\n",
    "                if not original_page.text.strip() and content:\n",
    "                    original_page.text = content\n",
    "                    original_page.save(\"Restoring content after revert\")\n",
    "                \n",
    "                # Check if target exists\n",
    "                if correct_page.exists():\n",
    "                    print(f\"Target page {row['correct']} already exists\")\n",
    "                    # Handle case-by-case (merge, overwrite, etc.)\n",
    "                    # Here we'll just skip\n",
    "                    continue\n",
    "                \n",
    "                original_page.move(row['correct'],\n",
    "                                reason=\"Correcting page move destination\",\n",
    "                                noredirect=True)\n",
    "                print(f\"Moved to correct location: {row['correct']}\")\n",
    "                time.sleep(2)\n",
    "                \n",
    "        except Exception as e:\n",
    "            print(f\"Error processing {row['incorrect']}: {str(e)}\")\n",
    "            continue\n",
    "\n",
    "def main():\n",
    "    print(\"=== MARBLE KINGDOMS PAGE CORRECTION TOOL ===\")\n",
    "    \n",
    "    # Find what needs fixing\n",
    "    df = find_incorrect_subpages()\n",
    "    \n",
    "    if df.empty:\n",
    "        print(\"\\nNo incorrect subpages found!\")\n",
    "        return\n",
    "    \n",
    "    print(\"\\nIncorrect pages found:\")\n",
    "    print(df[['original', 'incorrect', 'correct']].to_string(index=False))\n",
    "    \n",
    "    # Ask for confirmation\n",
    "    confirm = input(\"\\nProceed with corrections? (y/n): \")\n",
    "    if confirm.lower() != 'y':\n",
    "        print(\"Aborted.\")\n",
    "        return\n",
    "    \n",
    "    # Run correction\n",
    "    revert_and_correct_moves(df, simulate=False)\n",
    "    \n",
    "    print(\"\\n=== OPERATION COMPLETE ===\")\n",
    "\n",
    "if __name__ == \"__main__\":\n",
    "    main()"
   ]
  },
  {
   "cell_type": "code",
   "execution_count": 6,
   "id": "ff4ef3ad-e076-446c-82d8-a9682ebf9480",
   "metadata": {},
   "outputs": [
    {
     "name": "stderr",
     "output_type": "stream",
     "text": [
      "Page [[Faldron (MK 12.5)]] saved\n"
     ]
    },
    {
     "name": "stdout",
     "output_type": "stream",
     "text": [
      "Updated: Faldron (MK 12.5)\n"
     ]
    },
    {
     "name": "stderr",
     "output_type": "stream",
     "text": [
      "Sleeping for 8.9 seconds, 2025-07-27 11:32:37\n",
      "Page [[Haikodo (MK 28.5)]] saved\n"
     ]
    },
    {
     "name": "stdout",
     "output_type": "stream",
     "text": [
      "Updated: Haikodo (MK 28.5)\n"
     ]
    },
    {
     "name": "stderr",
     "output_type": "stream",
     "text": [
      "Sleeping for 8.8 seconds, 2025-07-27 11:32:47\n",
      "Page [[Nauzeous (MK 28.5)]] saved\n"
     ]
    },
    {
     "name": "stdout",
     "output_type": "stream",
     "text": [
      "Updated: Nauzeous (MK 28.5)\n"
     ]
    },
    {
     "name": "stderr",
     "output_type": "stream",
     "text": [
      "Sleeping for 9.0 seconds, 2025-07-27 11:32:57\n",
      "Page [[Pueranus (MK 28.5)]] saved\n"
     ]
    },
    {
     "name": "stdout",
     "output_type": "stream",
     "text": [
      "Updated: Pueranus (MK 28.5)\n"
     ]
    },
    {
     "name": "stderr",
     "output_type": "stream",
     "text": [
      "Sleeping for 8.7 seconds, 2025-07-27 11:33:07\n"
     ]
    },
    {
     "name": "stdout",
     "output_type": "stream",
     "text": [
      "Updated: Stippo (MK 25.5)\n",
      "Skipping Template:Tabs (invalid title format)\n"
     ]
    },
    {
     "name": "stderr",
     "output_type": "stream",
     "text": [
      "Page [[Stippo (MK 25.5)]] saved\n"
     ]
    }
   ],
   "source": [
    "def generate_template(title):\n",
    "    # Updated regex to handle MK X.X (decimals) and strip Roman numerals\n",
    "    match = re.match(r\"^(.*?)(?:\\s+[IVXLCDM]+)?\\s+\\((MK\\s+\\d+\\.?\\d*)\\)$\", title)\n",
    "    if not match:\n",
    "        return None\n",
    "    \n",
    "    name = match.group(1).strip()  # \"Verbole\" or \"Poltaire\"\n",
    "    mk_version = match.group(2)    # \"MK 8\" or \"MK 12.5\"\n",
    "    return f\"{{{{About|the marble in [[{mk_version}]]||{name} (disambiguation)}}}}\"\n",
    "\n",
    "def remove_tabs_template(text):\n",
    "    # Remove {{Tabs}} and any trailing whitespace after it\n",
    "    return re.sub(r\"\\{\\{Tabs(?:\\|.*?)?\\}\\}\\s*\", \"\", text, flags=re.DOTALL).strip()\n",
    "\n",
    "def process_page(page):\n",
    "    title = page.title()\n",
    "    template = generate_template(title)\n",
    "    \n",
    "    if not template:\n",
    "        print(f\"Skipping {title} (invalid title format)\")\n",
    "        return\n",
    "    \n",
    "    if template in page.text:\n",
    "        print(f\"Skipping {title} (template exists)\")\n",
    "        return\n",
    "    \n",
    "    # 1. Remove {{Tabs}} and clean text\n",
    "    new_text = remove_tabs_template(page.text)\n",
    "    \n",
    "    # 2. Add {{About}} directly before next template/content (no empty lines!)\n",
    "    if new_text.startswith(\"{{\"):\n",
    "        new_text = template + \"\\n\" + new_text  # No extra line if next line is a template\n",
    "    else:\n",
    "        new_text = template + \"\\n\\n\" + new_text  # Add line if non-template content follows\n",
    "    \n",
    "    # 3. Save changes\n",
    "    page.text = new_text\n",
    "    page.save(summary=f\"Added disambig template; removed {{Tabs}}\", minor=True)\n",
    "    print(f\"Updated: {title}\")\n",
    "\n",
    "def main():\n",
    "    site = pwb.Site()\n",
    "    category = pwb.Category(site, \"Marked for Disambig\")\n",
    "    for page in category.members():\n",
    "        try:\n",
    "            process_page(page)\n",
    "        except Exception as e:\n",
    "            print(f\"Failed on {page.title()}: {e}\")\n",
    "\n",
    "if __name__ == \"__main__\":\n",
    "    main()"
   ]
  },
  {
   "cell_type": "code",
   "execution_count": 10,
   "id": "73b05d3a-119c-4e45-a544-494a9b84c803",
   "metadata": {},
   "outputs": [
    {
     "data": {
      "text/plain": [
       "{'Cro (MK 12)',\n",
       " 'Cro (MK 21)',\n",
       " 'Cro (disambiguation)',\n",
       " 'Faldron (MK 12.5)',\n",
       " 'Faldron (MK 28)',\n",
       " 'Faldron (disambiguation)',\n",
       " 'Haikodo (MK 28.5)',\n",
       " 'Haikodo (MK 29)',\n",
       " 'Haikodo (disambiguation)',\n",
       " 'JYAR III (MK 21)',\n",
       " 'JYAR III (MK 31)',\n",
       " 'Jacklooney (disambiguation)',\n",
       " 'Jacklooney II (MK 29)',\n",
       " 'Jacklooney II (MK 32)',\n",
       " 'Joounii (disambiguation)',\n",
       " 'Joounii II (MK 29)',\n",
       " 'Joounii II (MK 31)',\n",
       " 'Kall Moss',\n",
       " 'Kall Moss (disambiguation)',\n",
       " 'Kall Moss II (MK 29)',\n",
       " 'Kall Moss II (MK 31)',\n",
       " 'Leea (MK 27)',\n",
       " 'Leea (MK 29)',\n",
       " 'Leea (disambiguation)',\n",
       " 'Mireille (MK 5)',\n",
       " 'Mireille (MK 8)',\n",
       " 'Mireille (disambiguation)',\n",
       " 'Nauzeous (MK 28)',\n",
       " 'Nauzeous (MK 28.5)',\n",
       " 'Nauzeous (disambiguation)',\n",
       " 'Pueranus (MK 28)',\n",
       " 'Pueranus (MK 28.5)',\n",
       " 'Pueranus (disambiguation)',\n",
       " 'Rojo Nico (disambiguation)',\n",
       " 'Rojo Nico II (MK 26)',\n",
       " 'Rojo Nico II (MK 30)',\n",
       " 'Sofjet',\n",
       " 'Sofjet (disambiguation)',\n",
       " 'Sofjet II (MK 29)',\n",
       " 'Sofjet II (MK 32)',\n",
       " 'Stippo (MK 25.5)',\n",
       " 'Stippo (MK 27)',\n",
       " 'Stippo (disambiguation)',\n",
       " 'Verbole (MK 23)',\n",
       " 'Verbole (MK 8)',\n",
       " 'Verbole (disambiguation)'}"
      ]
     },
     "execution_count": 10,
     "metadata": {},
     "output_type": "execute_result"
    }
   ],
   "source": [
    "repnames=set(disambig.values())\n",
    "repnames.add('Sofjet')\n",
    "repnames.add('Kall Moss')\n",
    "repnames.remove('Kall Moss (MK 20)')\n",
    "repnames"
   ]
  },
  {
   "cell_type": "code",
   "execution_count": 11,
   "id": "738561a8-0f40-4b8d-8bd6-54bdf756e6e8",
   "metadata": {},
   "outputs": [
    {
     "name": "stderr",
     "output_type": "stream",
     "text": [
      "Page [[Cro (MK 12)]] saved\n"
     ]
    },
    {
     "name": "stdout",
     "output_type": "stream",
     "text": [
      "Updated: Cro (MK 12)\n"
     ]
    },
    {
     "name": "stderr",
     "output_type": "stream",
     "text": [
      "Sleeping for 8.7 seconds, 2025-07-27 11:57:43\n",
      "Page [[Cro (MK 21)]] saved\n"
     ]
    },
    {
     "name": "stdout",
     "output_type": "stream",
     "text": [
      "Updated: Cro (MK 21)\n",
      "Skipping disambiguation page: Cro (disambiguation)\n",
      "No change needed: Faldron (MK 12.5)\n"
     ]
    },
    {
     "name": "stderr",
     "output_type": "stream",
     "text": [
      "Sleeping for 8.1 seconds, 2025-07-27 11:57:53\n",
      "Page [[Faldron (MK 28)]] saved\n"
     ]
    },
    {
     "name": "stdout",
     "output_type": "stream",
     "text": [
      "Updated: Faldron (MK 28)\n",
      "Skipping disambiguation page: Faldron (disambiguation)\n",
      "No change needed: Haikodo (MK 28.5)\n"
     ]
    },
    {
     "name": "stderr",
     "output_type": "stream",
     "text": [
      "Sleeping for 7.9 seconds, 2025-07-27 11:58:04\n",
      "Page [[Haikodo (MK 29)]] saved\n"
     ]
    },
    {
     "name": "stdout",
     "output_type": "stream",
     "text": [
      "Updated: Haikodo (MK 29)\n",
      "Skipping disambiguation page: Haikodo (disambiguation)\n",
      "No change needed: JYAR III (MK 21)\n",
      "No change needed: JYAR III (MK 31)\n",
      "Skipping disambiguation page: Jacklooney (disambiguation)\n",
      "No change needed: Jacklooney II (MK 29)\n",
      "No change needed: Jacklooney II (MK 32)\n",
      "Skipping disambiguation page: Joounii (disambiguation)\n"
     ]
    },
    {
     "name": "stderr",
     "output_type": "stream",
     "text": [
      "Sleeping for 6.0 seconds, 2025-07-27 11:58:16\n",
      "Page [[Joounii II (MK 29)]] saved\n"
     ]
    },
    {
     "name": "stdout",
     "output_type": "stream",
     "text": [
      "Updated: Joounii II (MK 29)\n"
     ]
    },
    {
     "name": "stderr",
     "output_type": "stream",
     "text": [
      "Sleeping for 8.7 seconds, 2025-07-27 11:58:23\n",
      "Page [[Joounii II (MK 31)]] saved\n"
     ]
    },
    {
     "name": "stdout",
     "output_type": "stream",
     "text": [
      "Updated: Joounii II (MK 31)\n",
      "No change needed: Kall Moss\n",
      "Skipping disambiguation page: Kall Moss (disambiguation)\n"
     ]
    },
    {
     "name": "stderr",
     "output_type": "stream",
     "text": [
      "Sleeping for 8.2 seconds, 2025-07-27 11:58:33\n",
      "Page [[Kall Moss II (MK 29)]] saved\n"
     ]
    },
    {
     "name": "stdout",
     "output_type": "stream",
     "text": [
      "Updated: Kall Moss II (MK 29)\n"
     ]
    },
    {
     "name": "stderr",
     "output_type": "stream",
     "text": [
      "Sleeping for 7.9 seconds, 2025-07-27 11:58:44\n",
      "Page [[Kall Moss II (MK 31)]] saved\n"
     ]
    },
    {
     "name": "stdout",
     "output_type": "stream",
     "text": [
      "Updated: Kall Moss II (MK 31)\n"
     ]
    },
    {
     "name": "stderr",
     "output_type": "stream",
     "text": [
      "Sleeping for 8.4 seconds, 2025-07-27 11:58:53\n",
      "Page [[Leea (MK 27)]] saved\n"
     ]
    },
    {
     "name": "stdout",
     "output_type": "stream",
     "text": [
      "Updated: Leea (MK 27)\n"
     ]
    },
    {
     "name": "stderr",
     "output_type": "stream",
     "text": [
      "Sleeping for 8.6 seconds, 2025-07-27 11:59:03\n",
      "Page [[Leea (MK 29)]] saved\n"
     ]
    },
    {
     "name": "stdout",
     "output_type": "stream",
     "text": [
      "Updated: Leea (MK 29)\n",
      "Skipping disambiguation page: Leea (disambiguation)\n"
     ]
    },
    {
     "name": "stderr",
     "output_type": "stream",
     "text": [
      "Sleeping for 8.7 seconds, 2025-07-27 11:59:13\n",
      "Page [[Mireille (MK 5)]] saved\n"
     ]
    },
    {
     "name": "stdout",
     "output_type": "stream",
     "text": [
      "Updated: Mireille (MK 5)\n"
     ]
    },
    {
     "name": "stderr",
     "output_type": "stream",
     "text": [
      "Sleeping for 8.7 seconds, 2025-07-27 11:59:23\n",
      "Page [[Mireille (MK 8)]] saved\n"
     ]
    },
    {
     "name": "stdout",
     "output_type": "stream",
     "text": [
      "Updated: Mireille (MK 8)\n",
      "Skipping disambiguation page: Mireille (disambiguation)\n"
     ]
    },
    {
     "name": "stderr",
     "output_type": "stream",
     "text": [
      "Sleeping for 8.8 seconds, 2025-07-27 11:59:33\n",
      "Page [[Nauzeous (MK 28)]] saved\n"
     ]
    },
    {
     "name": "stdout",
     "output_type": "stream",
     "text": [
      "Updated: Nauzeous (MK 28)\n",
      "No change needed: Nauzeous (MK 28.5)\n",
      "Skipping disambiguation page: Nauzeous (disambiguation)\n"
     ]
    },
    {
     "name": "stderr",
     "output_type": "stream",
     "text": [
      "Sleeping for 7.6 seconds, 2025-07-27 11:59:44\n",
      "Page [[Pueranus (MK 28)]] saved\n"
     ]
    },
    {
     "name": "stdout",
     "output_type": "stream",
     "text": [
      "Updated: Pueranus (MK 28)\n",
      "No change needed: Pueranus (MK 28.5)\n",
      "Skipping disambiguation page: Pueranus (disambiguation)\n",
      "Skipping disambiguation page: Rojo Nico (disambiguation)\n"
     ]
    },
    {
     "name": "stderr",
     "output_type": "stream",
     "text": [
      "Sleeping for 8.1 seconds, 2025-07-27 11:59:53\n",
      "ERROR: An error occurred for uri https://marble-kingdoms.fandom.com/api.php\n",
      "ERROR: Traceback (most recent call last):\n",
      "  File \"C:\\Users\\93658\\anaconda3\\Lib\\site-packages\\pywikibot\\data\\api\\_requests.py\", line 683, in _http_request\n",
      "    response = http.request(self.site, uri=uri,\n",
      "               ^^^^^^^^^^^^^^^^^^^^^^^^^^^^^^^^\n",
      "  File \"C:\\Users\\93658\\anaconda3\\Lib\\site-packages\\pywikibot\\comms\\http.py\", line 280, in request\n",
      "    r = fetch(baseuri, headers=headers, **kwargs)\n",
      "        ^^^^^^^^^^^^^^^^^^^^^^^^^^^^^^^^^^^^^^^^^\n",
      "  File \"C:\\Users\\93658\\anaconda3\\Lib\\site-packages\\pywikibot\\comms\\http.py\", line 452, in fetch\n",
      "    callback(response)\n",
      "  File \"C:\\Users\\93658\\anaconda3\\Lib\\site-packages\\pywikibot\\comms\\http.py\", line 338, in error_handling_callback\n",
      "    raise response from None\n",
      "  File \"C:\\Users\\93658\\anaconda3\\Lib\\site-packages\\pywikibot\\comms\\http.py\", line 443, in fetch\n",
      "    response = session.request(method, uri,\n",
      "               ^^^^^^^^^^^^^^^^^^^^^^^^^^^^\n",
      "  File \"C:\\Users\\93658\\anaconda3\\Lib\\site-packages\\requests\\sessions.py\", line 589, in request\n",
      "    resp = self.send(prep, **send_kwargs)\n",
      "           ^^^^^^^^^^^^^^^^^^^^^^^^^^^^^^\n",
      "  File \"C:\\Users\\93658\\anaconda3\\Lib\\site-packages\\requests\\sessions.py\", line 703, in send\n",
      "    r = adapter.send(request, **kwargs)\n",
      "        ^^^^^^^^^^^^^^^^^^^^^^^^^^^^^^^\n",
      "  File \"C:\\Users\\93658\\anaconda3\\Lib\\site-packages\\requests\\adapters.py\", line 694, in send\n",
      "    raise ProxyError(e, request=request)\n",
      "requests.exceptions.ProxyError: HTTPSConnectionPool(host='marble-kingdoms.fandom.com', port=443): Max retries exceeded with url: /api.php (Caused by ProxyError('Unable to connect to proxy', RemoteDisconnected('Remote end closed connection without response')))\n",
      "\n",
      "WARNING: Waiting 5.0 seconds before retrying.\n",
      "Sleeping for 3.7 seconds, 2025-07-27 12:00:08\n",
      "Page [[Rojo Nico II (MK 26)]] saved\n"
     ]
    },
    {
     "name": "stdout",
     "output_type": "stream",
     "text": [
      "Updated: Rojo Nico II (MK 26)\n"
     ]
    },
    {
     "name": "stderr",
     "output_type": "stream",
     "text": [
      "Sleeping for 8.1 seconds, 2025-07-27 12:00:13\n",
      "Page [[Rojo Nico II (MK 30)]] saved\n"
     ]
    },
    {
     "name": "stdout",
     "output_type": "stream",
     "text": [
      "Updated: Rojo Nico II (MK 30)\n",
      "No change needed: Sofjet\n",
      "Skipping disambiguation page: Sofjet (disambiguation)\n"
     ]
    },
    {
     "name": "stderr",
     "output_type": "stream",
     "text": [
      "Sleeping for 8.2 seconds, 2025-07-27 12:00:23\n",
      "Page [[Sofjet II (MK 29)]] saved\n"
     ]
    },
    {
     "name": "stdout",
     "output_type": "stream",
     "text": [
      "Updated: Sofjet II (MK 29)\n",
      "No change needed: Sofjet II (MK 32)\n",
      "No change needed: Stippo (MK 25.5)\n"
     ]
    },
    {
     "name": "stderr",
     "output_type": "stream",
     "text": [
      "Sleeping for 7.7 seconds, 2025-07-27 12:00:34\n",
      "Page [[Stippo (MK 27)]] saved\n"
     ]
    },
    {
     "name": "stdout",
     "output_type": "stream",
     "text": [
      "Updated: Stippo (MK 27)\n",
      "Skipping disambiguation page: Stippo (disambiguation)\n"
     ]
    },
    {
     "name": "stderr",
     "output_type": "stream",
     "text": [
      "Sleeping for 8.7 seconds, 2025-07-27 12:00:43\n",
      "Page [[Verbole (MK 23)]] saved\n"
     ]
    },
    {
     "name": "stdout",
     "output_type": "stream",
     "text": [
      "Updated: Verbole (MK 23)\n"
     ]
    },
    {
     "name": "stderr",
     "output_type": "stream",
     "text": [
      "Sleeping for 8.6 seconds, 2025-07-27 12:00:53\n"
     ]
    },
    {
     "name": "stdout",
     "output_type": "stream",
     "text": [
      "Updated: Verbole (MK 8)\n",
      "Skipping disambiguation page: Verbole (disambiguation)\n"
     ]
    },
    {
     "name": "stderr",
     "output_type": "stream",
     "text": [
      "Page [[Verbole (MK 8)]] saved\n"
     ]
    }
   ],
   "source": [
    "pages_to_process = repnames\n",
    "\n",
    "def fix_about_template(text):\n",
    "    \"\"\"Add 'the' to About template if missing, preserving exact formatting\"\"\"\n",
    "    # Pattern matches {{About|(whitespace)(marble)(whitespace)(in...)\n",
    "    pattern = re.compile(\n",
    "        r\"(\\{\\{About\\|)(\\s*)\"\n",
    "        r\"(marble\\b)(\\s+in\\s+\\[\\[)\", \n",
    "        flags=re.IGNORECASE\n",
    "    )\n",
    "    \n",
    "    def add_the(match):\n",
    "        # Only add if \"the\" isn't already there\n",
    "        if \"the\" not in match.group(0).lower():\n",
    "            return f\"{match.group(1)}{match.group(2)}the {match.group(3)}{match.group(4)}\"\n",
    "        return match.group(0)\n",
    "    \n",
    "    return pattern.sub(add_the, text)\n",
    "\n",
    "def process_page(site, page_title):\n",
    "    try:\n",
    "        # Skip disambiguation pages\n",
    "        if \"(disambiguation)\" in page_title.lower():\n",
    "            print(f\"Skipping disambiguation page: {page_title}\")\n",
    "            return\n",
    "            \n",
    "        page = pwb.Page(site, page_title)\n",
    "        if not page.exists():\n",
    "            print(f\"Skipping non-existent page: {page_title}\")\n",
    "            return\n",
    "\n",
    "        original_text = page.text\n",
    "        new_text = fix_about_template(original_text)\n",
    "\n",
    "        if new_text != original_text:\n",
    "            page.text = new_text\n",
    "            page.save(summary=\"Added 'the' to About template (bot edit)\", minor=True)\n",
    "            print(f\"Updated: {page_title}\")\n",
    "        else:\n",
    "            print(f\"No change needed: {page_title}\")\n",
    "\n",
    "    except Exception as e:\n",
    "        print(f\"Error processing {page_title}: {str(e)}\")\n",
    "\n",
    "def main():\n",
    "    site = pwb.Site()\n",
    "    for page_title in sorted(pages_to_process):\n",
    "        process_page(site, page_title)\n",
    "\n",
    "if __name__ == \"__main__\":\n",
    "    main()"
   ]
  },
  {
   "cell_type": "code",
   "execution_count": 13,
   "id": "2bfd9d89-d288-4a73-99df-cda6aa2945b6",
   "metadata": {},
   "outputs": [
    {
     "data": {
      "text/plain": [
       "{'Cro (disambiguation)',\n",
       " 'Faldron (disambiguation)',\n",
       " 'Haikodo (disambiguation)',\n",
       " 'Jacklooney (disambiguation)',\n",
       " 'Joounii (disambiguation)',\n",
       " 'Kall Moss (disambiguation)',\n",
       " 'Leea (disambiguation)',\n",
       " 'Mireille (disambiguation)',\n",
       " 'Nauzeous (disambiguation)',\n",
       " 'Pueranus (disambiguation)',\n",
       " 'Rojo Nico (disambiguation)',\n",
       " 'Sofjet (disambiguation)',\n",
       " 'Stippo (disambiguation)',\n",
       " 'Verbole (disambiguation)'}"
      ]
     },
     "execution_count": 13,
     "metadata": {},
     "output_type": "execute_result"
    }
   ],
   "source": [
    "dabpages=set()\n",
    "for i in repnames:\n",
    "    if '(disambiguation)' in i:\n",
    "        dabpages.add(i)\n",
    "dabpages"
   ]
  }
 ],
 "metadata": {
  "kernelspec": {
   "display_name": "Python 3 (ipykernel)",
   "language": "python",
   "name": "python3"
  },
  "language_info": {
   "codemirror_mode": {
    "name": "ipython",
    "version": 3
   },
   "file_extension": ".py",
   "mimetype": "text/x-python",
   "name": "python",
   "nbconvert_exporter": "python",
   "pygments_lexer": "ipython3",
   "version": "3.12.7"
  }
 },
 "nbformat": 4,
 "nbformat_minor": 5
}
