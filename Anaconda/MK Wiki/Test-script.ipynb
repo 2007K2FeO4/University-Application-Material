{
 "cells": [
  {
   "cell_type": "code",
   "execution_count": 2,
   "id": "9cc56bcd-47f2-49d3-8901-968967835372",
   "metadata": {},
   "outputs": [],
   "source": [
    "import pywikibot as pwb\n",
    "import webbrowser as wb\n",
    "import pandas as pd\n",
    "import requests\n",
    "import re\n",
    "import os\n",
    "\n",
    "site = pwb.Site(\"en\", \"marble_kingdoms\")  # (language_code, family)\n",
    "site.login()"
   ]
  },
  {
   "cell_type": "code",
   "execution_count": 8,
   "id": "0a1a8929-141d-4897-bb9c-96bf4f50bd67",
   "metadata": {},
   "outputs": [
    {
     "name": "stdout",
     "output_type": "stream",
     "text": [
      "\n",
      "== Introduction ==\n",
      "Some intro text.\n",
      "\n",
      "== Old Section ==\n",
      "This is the new updated content.\n",
      "== Another Section ==\n",
      "This stays the same.\n",
      "\n"
     ]
    }
   ],
   "source": [
    "def replace_section(text, section_title, new_content):\n",
    "    # Pattern: find the section title and everything until the next section title\n",
    "    pattern = rf\"(==\\s*{re.escape(section_title)}\\s*==.*?)(?=\\n==|\\Z)\"  # \\n== means next section, \\Z = end of text\n",
    "\n",
    "    replacement = f\"== {section_title} ==\\n{new_content}\"\n",
    "\n",
    "    return re.sub(pattern, replacement, text, flags=re.DOTALL)\n",
    "\n",
    "# Example usage:\n",
    "text = \"\"\"\n",
    "== Introduction ==\n",
    "Some intro text.\n",
    "\n",
    "== Old Section ==\n",
    "This is old content that we want to replace.\n",
    "\n",
    "== Another Section ==\n",
    "This stays the same.\n",
    "\"\"\"\n",
    "\n",
    "new_text = replace_section(text, \"Old Section\", \"This is the new updated content.\")\n",
    "print(new_text)\n"
   ]
  },
  {
   "cell_type": "code",
   "execution_count": 9,
   "id": "9bc0bf4d-2939-4b68-8cf2-04b9505d63d7",
   "metadata": {},
   "outputs": [
    {
     "data": {
      "text/plain": [
       "'File:Squads2.png'"
      ]
     },
     "execution_count": 9,
     "metadata": {},
     "output_type": "execute_result"
    }
   ],
   "source": [
    "info='File:Squads.png'\n",
    "loc=info.find('.png')\n",
    "info2=info[:loc]+'2'+info[loc:]\n",
    "info2"
   ]
  },
  {
   "cell_type": "code",
   "execution_count": 12,
   "id": "44c85268-ed30-46e5-9a4e-3318f4d4dbf0",
   "metadata": {},
   "outputs": [
    {
     "name": "stderr",
     "output_type": "stream",
     "text": [
      "Page [[Hall of Heroes]] saved\n",
      "Sleeping for 9.0 seconds, 2025-04-27 15:46:53\n",
      "Page [[Strongest of each Marble Type]] saved\n",
      "Sleeping for 8.9 seconds, 2025-04-27 15:47:03\n",
      "Page [[Epic Squads]] saved\n",
      "Sleeping for 9.1 seconds, 2025-04-27 15:47:13\n",
      "Page [[Families]] saved\n",
      "Sleeping for 9.0 seconds, 2025-04-27 15:47:23\n",
      "Page [[Kingdom Units]] saved\n",
      "Sleeping for 8.8 seconds, 2025-04-27 15:47:33\n",
      "Page [[Kingdoms]] saved\n",
      "Sleeping for 8.9 seconds, 2025-04-27 15:47:43\n",
      "Page [[Kingdom Wins Podium]] saved\n",
      "Sleeping for 8.8 seconds, 2025-04-27 15:47:54\n",
      "Page [[Power Ups]] saved\n",
      "Sleeping for 8.9 seconds, 2025-04-27 15:48:03\n",
      "Page [[Battle Grounds]] saved\n",
      "Sleeping for 9.0 seconds, 2025-04-27 15:48:13\n",
      "Page [[Video Saga]] saved\n"
     ]
    }
   ],
   "source": [
    "main_pages=['Hall of Heroes', 'Strongest of each Marble Type', 'Epic Squads', 'Families', 'Kingdom Units', \n",
    "            'Kingdoms', 'Kingdom Wins Podium', 'Power Ups', 'Battle Grounds', 'Video Saga']\n",
    "for i in main_pages:\n",
    "    page = pwb.Page(site, i)  # Page to edit\n",
    "    text = page.text\n",
    "    '''\n",
    "    l=text.find('[[')\n",
    "    r=text.find(']]')+2\n",
    "    info=text[l:r]\n",
    "    loc=info.find('.png')\n",
    "    info2=info[:loc]+'2'+info[loc:]\n",
    "    new='<div class=\"light-only\">{}</div><div class=\"dark-only\">{}</div>'.format(info2,info)\n",
    "    # <div class=\"light-only\">[[{{{light-img|File:Heroes2.png}}}|center|100px|link={{{link|Hall of Heroes}}}]]</div>\n",
    "    # <div class=\"dark-only\">[[{{{dark-img|File:Heroes.png}}}|center|100px|link={{{link|Hall of Heroes}}}]]</div>\n",
    "    '''\n",
    "    ##====================================================================================================##\n",
    "    # Type your scripts below\n",
    "    \n",
    "    \n",
    "    \n",
    "    ##====================================================================================================##\n",
    "    page.text = text[:l]+new+text[r:]\n",
    "    # page.save(\"Bot: Style change\")\n",
    "    '''\n",
    "    check=input(page.text+'\\n\\nConfirm Edit? ')\n",
    "    if check[0]=='y' or check[0]=='Y':\n",
    "        print('Confirmed')\n",
    "        page.save(\"Bot: Mass Edit\")  # Edit summary\n",
    "    else:\n",
    "        break\n",
    "    '''"
   ]
  },
  {
   "cell_type": "code",
   "execution_count": 5,
   "id": "e8891253-c584-4cb8-86a2-7b731f9037c2",
   "metadata": {},
   "outputs": [
    {
     "name": "stdout",
     "output_type": "stream",
     "text": [
      "{{Marbles Nav}}\n",
      "{{Settings Nav}}\n",
      "<div class=\"light-only\">[[File:Videos2.png|right|thumb]]</div><div class=\"dark-only\">[[File:Videos.png|right|thumb]]</div>\n",
      "\n",
      "\n",
      "<center><big>'''List of Marble Kingdoms videos <br>by [[Lost Marbles]].'''</big> </center>\n",
      "\n",
      "\n",
      "\n",
      "{| class=\"custom-table\" style=\"text-align: center; margin: auto; width: 100%; font-family: Rubik, sans-serif; border-radius: 10px; font-size: 18px; border-collapse: collapse; padding: 10px; border: 1px solid #ccc;\"\n",
      "|+ style=\"font-size: 28px; font-weight: bold; text-align: center; margin-bottom: 10px;\" | Episodes\n",
      "|-\n",
      "| '''[https://www.youtube.com/watch?v=mLBpKRHftEM MK 1]'''\n",
      "| '''[https://www.youtube.com/watch?v=Xmptg2K1ZN0 MK 2]'''\n",
      "| '''[https://www.youtube.com/watch?v=7o-Q2Wg9gAA MK 3]'''\n",
      "| '''[https://www.youtube.com/watch?v=l01MpX8-UsI MK 4]'''\n",
      "| '''[https://www.youtube.com/watch?v=X3AWb3tY320 MK 5]'''\n",
      "|-\n",
      "| '''[https://www.youtube.com/watch?v=U_5U1BmixmU MK 6]'''\n",
      "| '''[https://www.youtube.com/watch?v=uRkNpk5s63E MK 7]'''\n",
      "| '''[https://www.youtube.com/watch?v=vScqPI6Os0Q MK 8]'''\n",
      "| '''[https://www.youtube.com/watch?v=j45GDH_Rc2s MK 9]'''\n",
      "| '''[https://www.youtube.com/watch?v=u_kYGF07tHM MK 10]'''\n",
      "|-\n",
      "| '''[https://www.youtube.com/watch?v=p8Gn-kLENcE MK 11]'''\n",
      "| '''[https://www.youtube.com/watch?v=QFUv2wr4F0I MK 12]'''\n",
      "| '''[https://www.youtube.com/watch?v=4cx4cl7QRMY MK 13]'''\n",
      "| '''[https://www.youtube.com/watch?v=GKZObnI-rDk MK 14]'''\n",
      "| '''[https://www.youtube.com/watch?v=VzCtE5mZWms MK 15]'''\n",
      "|-\n",
      "| '''[https://www.youtube.com/watch?v=6PReoHd3N0A MK 16]'''\n",
      "| '''[https://www.youtube.com/watch?v=A6OKHz0DpAM MK 17]'''\n",
      "| '''[https://www.youtube.com/watch?v=PiBBvhUOcT0 MK 18]'''\n",
      "| '''[https://www.youtube.com/watch?v=fmdBObeC0Wc MK 19]'''\n",
      "| '''[https://www.youtube.com/watch?v=Z4zVJfcmGU0 MK 20]'''\n",
      "|-\n",
      "| '''[https://www.youtube.com/watch?v=VZtDLGfsgko MK 21]'''\n",
      "| '''[https://www.youtube.com/watch?v=mSsqvf9ow_s MK 22]'''\n",
      "| '''[https://www.youtube.com/watch?v=JVTs9mm8tv4 MK] [https://www.youtube.com/watch?v=D-Pta3116Eo 23]'''\n",
      "| '''[https://www.youtube.com/watch?v=65nTXxoCsFA MK 24]'''\n",
      "| '''[https://www.youtube.com/watch?v=XhGqaduDRIE MK 25]'''\n",
      "|-\n",
      "| '''[https://www.youtube.com/watch?v=wqCVVib0O4s MK 26]'''\n",
      "| '''[https://youtu.be/zAvNq0q4304?feature=shared MK 27]'''\n",
      "| '''[https://youtu.be/SvwFVwKUSo8?feature=shared MK 28]'''\n",
      "| '''[https://youtu.be/IuixcyM9yX4?feature=shared MK 29]'''\n",
      "| '''[https://youtu.be/L9TBVnKAToM?feature=shared MK 30]'''\n",
      "|-\n",
      "| '''[https://youtu.be/ssPT3ZrePyM?feature=shared MK 31]'''\n",
      "| '''[https://youtu.be/zhAG0NHOeDk?feature=shared MK 32]'''\n",
      "| '''[https://youtu.be/oIb-TfGT7Mg?si=A9Ktrmn6KxxKDf8M MK 33]'''\n",
      "| '''MK 34'''\n",
      "| '''MK 35'''\n",
      "|}\n",
      "<br>\n",
      "{| class=\"custom-table\" style=\"text-align: center; margin: auto; width: 100%; font-family: Rubik, sans-serif; border-radius: 10px; font-size: 18px; border-collapse: collapse; padding: 10px; border: 1px solid #ccc;\"\n",
      "|+ style=\"font-size: 28px; font-weight: bold; text-align: center; margin-bottom: 10px;\" | Bloopers\n",
      "|-\n",
      "| '''[https://www.youtube.com/watch?v=WgHqeBzE1OM Will the King Survive?]'''\n",
      "|-\n",
      "| '''[https://www.youtube.com/watch?v=2qobyTP96vM Ragnarok Came Too Early…]'''\n",
      "|-\n",
      "| '''[https://www.youtube.com/watch?v=En-qt-HmtaM A Monk's Merry Band]'''\n",
      "|-\n",
      "| '''[https://youtu.be/s6dAibqngyo?feature=shared I forgot to end the MK 25 recording after victory]'''\n",
      "|-\n",
      "| '''[https://youtu.be/dBxWLkifvYw?feature=shared New features did not happen in MK 28]'''\n",
      "|}\n",
      "<br>\n",
      "{| class=\"custom-table\" style=\"text-align: center; margin: auto; width: 100%; font-family: Rubik, sans-serif; border-radius: 10px; font-size: 18px; font-weight: bold; border-collapse: collapse; padding: 10px; border: 1px solid #ccc;\"\n",
      "|+ style=\"font-size: 28px; font-weight: bold; text-align: center; margin-bottom: 10px;\" | Shorts\n",
      "|+ style=\"font-size: 22px; font-weight: bold; text-align: center; margin-bottom: 10px;\" | Marble Duels\n",
      "|-\n",
      "| style=\"width: 50%\" | [https://youtube.com/shorts/fQgV6FC_7nY?feature=shared Drewdrinks vs. Pretox]\n",
      "| style=\"width: 50%\" | [https://youtube.com/shorts/HSHp8UqWtb4?feature=shared Drewdrinks vs. Pretox 2.0]\n",
      "|-\n",
      "| style=\"width: 50%\" | [https://youtube.com/shorts/E0YR1vxWbaM?feature=shared Florymonde vs. Milkisgood]\n",
      "| style=\"width: 50%\" | [https://youtube.com/shorts/MwlfwNQX_kE?feature=shared Florymonde vs. Drewdrinks]\n",
      "|-\n",
      "| style=\"width: 50%\" | [https://youtube.com/shorts/SxvKQfDw0dE?feature=shared Askgar vs. Arichnope Trio]\n",
      "| style=\"width: 50%\" | [https://youtube.com/shorts/nL_H-3EKRXw?feature=shared Askgar vs. Drewdrinks]\n",
      "|}\n",
      "<br>\n",
      "{| class=\"custom-table\" style=\"text-align: center; margin: auto; width: 100%; font-family: Rubik, sans-serif; border-radius: 10px; font-size: 18px; font-weight: bold; border-collapse: collapse; padding: 10px; border: 1px solid #ccc;\"\n",
      "|+ style=\"font-size: 22px; font-weight: bold; text-align: center; margin-bottom: 10px;\" | <span title=\"It took the Green's Best Heroes, of that time, 10 days to defeat GSX\">GSX vs Green Heroes</span>\n",
      "|-\n",
      "| style=\"width: 20%\" | [https://youtube.com/shorts/nZi5klVi8u0?feature=shared Day 1]\n",
      "| style=\"width: 20%\" | [https://youtube.com/shorts/VwDT0VHVxbw?feature=shared Day 2]\n",
      "| style=\"width: 20%\" | [https://youtube.com/shorts/01g5xX38kK4?feature=shared Day 3]\n",
      "| style=\"width: 20%\" | [https://youtube.com/shorts/idgPvZt3Oyw?feature=shared Day 4]\n",
      "| style=\"width: 20%\" | [https://youtube.com/shorts/3j5HUDcBgos?feature=shared Day 5]\n",
      "|-\n",
      "| style=\"width: 20%\" | [https://youtube.com/shorts/svkaioYGswo?feature=shared Day 6]\n",
      "| style=\"width: 20%\" | [https://youtube.com/shorts/HSS24YrKxjo?feature=shared Day 7]\n",
      "| style=\"width: 20%\" | [https://youtube.com/shorts/vUgecZKdMA8?feature=shared Day 8]\n",
      "| style=\"width: 20%\" | [https://youtube.com/shorts/KwgcHsSJ5Ig?feature=shared Day 9]\n",
      "| style=\"width: 20%\" | [https://youtube.com/shorts/qD7yQRQgAV8?feature=shared Day 10]\n",
      "|}\n",
      "<br>\n",
      "{| class=\"custom-table\" style=\"text-align: center; margin: auto; width: 100%; font-family: Rubik, sans-serif; border-radius: 10px; font-size: 18px; font-weight: bold; border-collapse: collapse; padding: 10px; border: 1px solid #ccc;\"\n",
      "\n",
      "|+ style=\"font-size: 22px; font-weight: bold; text-align: center; margin-bottom: 10px;\" | Syuvi IX Duels\n",
      "|-\n",
      "| style=\"width: 20%\" | [https://youtube.com/shorts/ck1LCyHh8bQ?feature=shared vs. GSX]\n",
      "|-\n",
      "| style=\"width: 20%\" | [https://youtube.com/shorts/Nq9CqA984Rw?feature=shared vs. GSX + Toby II]\n",
      "|-\n",
      "| style=\"width: 50%\" | [https://youtube.com/shorts/XBl08jluSoU?feature=shared vs. King Ischnaroth & Kall Moss II]\n",
      "|}\n",
      "[[zh:视频汇总]]\n",
      "[[Category:Basic Pages]]\n"
     ]
    }
   ],
   "source": [
    "'''\n",
    "# URL you want to open\n",
    "url = 'https://www.youtube.com/'\n",
    "\n",
    "# Open in default browser\n",
    "webbrowser.open(url)\n",
    "'''\n",
    "page = pywikibot.Page(site, 'Video Saga')  # Page to edit\n",
    "text = page.text\n",
    "print(text)"
   ]
  },
  {
   "cell_type": "code",
   "execution_count": 10,
   "id": "12fe60cc-636a-4c5a-98fc-c969430b5d87",
   "metadata": {},
   "outputs": [
    {
     "data": {
      "text/plain": [
       "{'mLBpKRHftEM': 'MK 1',\n",
       " 'Xmptg2K1ZN0': 'MK 2',\n",
       " '7o-Q2Wg9gAA': 'MK 3',\n",
       " 'l01MpX8-UsI': 'MK 4',\n",
       " 'X3AWb3tY320': 'MK 5',\n",
       " 'U_5U1BmixmU': 'MK 6',\n",
       " 'uRkNpk5s63E': 'MK 7',\n",
       " 'vScqPI6Os0Q': 'MK 8',\n",
       " 'j45GDH_Rc2s': 'MK 9',\n",
       " 'u_kYGF07tHM': 'MK 10',\n",
       " 'p8Gn-kLENcE': 'MK 11',\n",
       " 'QFUv2wr4F0I': 'MK 12',\n",
       " '4cx4cl7QRMY': 'MK 13',\n",
       " 'GKZObnI-rDk': 'MK 14',\n",
       " 'VzCtE5mZWms': 'MK 15',\n",
       " '6PReoHd3N0A': 'MK 16',\n",
       " 'A6OKHz0DpAM': 'MK 17',\n",
       " 'PiBBvhUOcT0': 'MK 18',\n",
       " 'fmdBObeC0Wc': 'MK 19',\n",
       " 'Z4zVJfcmGU0': 'MK 20',\n",
       " 'VZtDLGfsgko': 'MK 21',\n",
       " 'mSsqvf9ow_s': 'MK 22',\n",
       " 'JVTs9mm8tv4': 'MK 23',\n",
       " 'D-Pta3116Eo': 'MK 23.5',\n",
       " '65nTXxoCsFA': 'MK 24',\n",
       " 'XhGqaduDRIE': 'MK 25',\n",
       " 'wqCVVib0O4s': 'MK 26',\n",
       " 'zAvNq0q4304': 'MK 27',\n",
       " 'SvwFVwKUSo8': 'MK 28',\n",
       " 'IuixcyM9yX4': 'MK 29',\n",
       " 'L9TBVnKAToM': 'MK 30',\n",
       " 'ssPT3ZrePyM': 'MK 31',\n",
       " 'zhAG0NHOeDk': 'MK 32',\n",
       " 'oIb-TfGT7Mg': 'MK 33',\n",
       " 'WgHqeBzE1OM': 'MK 2.5',\n",
       " '2qobyTP96vM': 'MK 12.5',\n",
       " 'En-qt-HmtaM': 'MK 22.5',\n",
       " 's6dAibqngyo': 'MK 25.5',\n",
       " 'dBxWLkifvYw': 'MK 28.5'}"
      ]
     },
     "execution_count": 10,
     "metadata": {},
     "output_type": "execute_result"
    }
   ],
   "source": [
    "videos='''[mLBpKRHftEM MK 1]\n",
    "[Xmptg2K1ZN0 MK 2]\n",
    "[7o-Q2Wg9gAA MK 3]\n",
    "[l01MpX8-UsI MK 4]\n",
    "[X3AWb3tY320 MK 5]\n",
    "[U_5U1BmixmU MK 6]\n",
    "[uRkNpk5s63E MK 7]\n",
    "[vScqPI6Os0Q MK 8]\n",
    "[j45GDH_Rc2s MK 9]\n",
    "[u_kYGF07tHM MK 10]\n",
    "[p8Gn-kLENcE MK 11]\n",
    "[QFUv2wr4F0I MK 12]\n",
    "[4cx4cl7QRMY MK 13]\n",
    "[GKZObnI-rDk MK 14]\n",
    "[VzCtE5mZWms MK 15]\n",
    "[6PReoHd3N0A MK 16]\n",
    "[A6OKHz0DpAM MK 17]\n",
    "[PiBBvhUOcT0 MK 18]\n",
    "[fmdBObeC0Wc MK 19]\n",
    "[Z4zVJfcmGU0 MK 20]\n",
    "[VZtDLGfsgko MK 21]\n",
    "[mSsqvf9ow_s MK 22]\n",
    "[JVTs9mm8tv4 MK 23]\n",
    "[D-Pta3116Eo MK 23.5]\n",
    "[65nTXxoCsFA MK 24]\n",
    "[XhGqaduDRIE MK 25]\n",
    "[wqCVVib0O4s MK 26]\n",
    "[zAvNq0q4304 MK 27]\n",
    "[SvwFVwKUSo8 MK 28]\n",
    "[IuixcyM9yX4 MK 29]\n",
    "[L9TBVnKAToM MK 30]\n",
    "[ssPT3ZrePyM MK 31]\n",
    "[zhAG0NHOeDk MK 32]\n",
    "[oIb-TfGT7Mg MK 33]\n",
    "[WgHqeBzE1OM MK 2.5]\n",
    "[2qobyTP96vM MK 12.5]\n",
    "[En-qt-HmtaM MK 22.5]\n",
    "[s6dAibqngyo MK 25.5]\n",
    "[dBxWLkifvYw MK 28.5]'''.split('\\n')\n",
    "videoEP={}\n",
    "for ele in videos:\n",
    "    videoEP[ele[1:12]]=ele[13:-1]\n",
    "videoEP"
   ]
  },
  {
   "cell_type": "code",
   "execution_count": 6,
   "id": "90fb2a97-5f7d-4aa6-b663-14ad9902262a",
   "metadata": {},
   "outputs": [
    {
     "ename": "NameError",
     "evalue": "name 'videoEP' is not defined",
     "output_type": "error",
     "traceback": [
      "\u001b[1;31m---------------------------------------------------------------------------\u001b[0m",
      "\u001b[1;31mNameError\u001b[0m                                 Traceback (most recent call last)",
      "Cell \u001b[1;32mIn[6], line 1\u001b[0m\n\u001b[1;32m----> 1\u001b[0m \u001b[38;5;28;01mfor\u001b[39;00m key,epi \u001b[38;5;129;01min\u001b[39;00m videoEP\u001b[38;5;241m.\u001b[39mitems():\n\u001b[0;32m      2\u001b[0m     \u001b[38;5;66;03m# Example YouTube thumbnail URL\u001b[39;00m\n\u001b[0;32m      3\u001b[0m     url \u001b[38;5;241m=\u001b[39m \u001b[38;5;124m'\u001b[39m\u001b[38;5;124mhttps://img.youtube.com/vi/\u001b[39m\u001b[38;5;132;01m{}\u001b[39;00m\u001b[38;5;124m/maxresdefault.jpg\u001b[39m\u001b[38;5;124m'\u001b[39m\u001b[38;5;241m.\u001b[39mformat(key)\n\u001b[0;32m      5\u001b[0m     \u001b[38;5;66;03m# Send a GET request\u001b[39;00m\n",
      "\u001b[1;31mNameError\u001b[0m: name 'videoEP' is not defined"
     ]
    }
   ],
   "source": [
    "for key,epi in videoEP.items():\n",
    "    # Example YouTube thumbnail URL\n",
    "    url = 'https://img.youtube.com/vi/{}/maxresdefault.jpg'.format(key)\n",
    "    \n",
    "    # Send a GET request\n",
    "    response = requests.get(url)\n",
    "    \n",
    "    # Check if the request was successful\n",
    "    if response.status_code == 200:\n",
    "        # Save the image to a file\n",
    "        with open('E:/MK images/Preview/{}_preview.jpg'.format(epi), 'wb') as file:\n",
    "            file.write(response.content)\n",
    "        print('Image downloaded successfully!')\n",
    "    else:\n",
    "        print('Failed to retrieve image:', response.status_code)\n",
    "'''\n",
    "url = 'https://img.youtube.com/vi/D-Pta3116Eo/maxresdefault.jpg'.format(key)\n",
    "wb.open_new_tab(url)\n",
    "'''"
   ]
  },
  {
   "cell_type": "code",
   "execution_count": 5,
   "id": "37a401a0-977e-41e9-80d8-bbfd19ba3140",
   "metadata": {},
   "outputs": [
    {
     "name": "stdout",
     "output_type": "stream",
     "text": [
      "Image downloaded successfully!\n"
     ]
    }
   ],
   "source": [
    "# Example YouTube thumbnail URL\n",
    "video_id = 'UyD82bV-if0'\n",
    "url = 'https://img.youtube.com/vi/{}/maxresdefault.jpg'.format(video_id)\n",
    "\n",
    "# Send a GET request\n",
    "response = requests.get(url)\n",
    "\n",
    "# Check if the request was successful\n",
    "if response.status_code == 200:\n",
    "    # Save the image to a file\n",
    "    with open('E:/MK Files/Preview/MS 2_preview.jpg', 'wb') as file:\n",
    "        file.write(response.content)\n",
    "    print('Image downloaded successfully!')\n",
    "else:\n",
    "    print('Failed to retrieve image:', response.status_code)\n"
   ]
  },
  {
   "cell_type": "code",
   "execution_count": 4,
   "id": "8bddec66-6e2c-40ce-b84c-9b1606572558",
   "metadata": {},
   "outputs": [
    {
     "name": "stdout",
     "output_type": "stream",
     "text": [
      "File has been renamed to E:\\MK images\\Preview\\MK 1_start.png\n",
      "File has been renamed to E:\\MK images\\Preview\\MK 2_start.png\n",
      "File has been renamed to E:\\MK images\\Preview\\MK 3_start.png\n",
      "File has been renamed to E:\\MK images\\Preview\\MK 4_start.png\n",
      "File has been renamed to E:\\MK images\\Preview\\MK 5_start.png\n",
      "File has been renamed to E:\\MK images\\Preview\\MK 6_start.png\n",
      "File has been renamed to E:\\MK images\\Preview\\MK 7_start.png\n",
      "File has been renamed to E:\\MK images\\Preview\\MK 8_start.png\n",
      "File has been renamed to E:\\MK images\\Preview\\MK 9_start.png\n",
      "File has been renamed to E:\\MK images\\Preview\\MK 10_start.png\n",
      "File has been renamed to E:\\MK images\\Preview\\MK 11_start.png\n",
      "File has been renamed to E:\\MK images\\Preview\\MK 12_start.png\n",
      "File has been renamed to E:\\MK images\\Preview\\MK 13_start.png\n",
      "File has been renamed to E:\\MK images\\Preview\\MK 14_start.png\n",
      "File has been renamed to E:\\MK images\\Preview\\MK 15_start.png\n",
      "File has been renamed to E:\\MK images\\Preview\\MK 16_start.png\n",
      "File has been renamed to E:\\MK images\\Preview\\MK 17_start.png\n",
      "File has been renamed to E:\\MK images\\Preview\\MK 18_start.png\n",
      "File has been renamed to E:\\MK images\\Preview\\MK 19_start.png\n",
      "File has been renamed to E:\\MK images\\Preview\\MK 20_start.png\n",
      "File has been renamed to E:\\MK images\\Preview\\MK 21_start.png\n",
      "File has been renamed to E:\\MK images\\Preview\\MK 22_start.png\n",
      "File has been renamed to E:\\MK images\\Preview\\MK 23_start.png\n",
      "File has been renamed to E:\\MK images\\Preview\\MK 24_start.png\n",
      "File has been renamed to E:\\MK images\\Preview\\MK 25_start.png\n",
      "File has been renamed to E:\\MK images\\Preview\\MK 26_start.png\n",
      "File has been renamed to E:\\MK images\\Preview\\MK 27_start.png\n",
      "File has been renamed to E:\\MK images\\Preview\\MK 28_start.png\n",
      "File has been renamed to E:\\MK images\\Preview\\MK 29_start.png\n",
      "File has been renamed to E:\\MK images\\Preview\\MK 30_start.png\n",
      "File has been renamed to E:\\MK images\\Preview\\MK 31_start.png\n",
      "File has been renamed to E:\\MK images\\Preview\\MK 32_start.png\n",
      "File has been renamed to E:\\MK images\\Preview\\MK 33_start.png\n"
     ]
    }
   ],
   "source": [
    "start=[r\"E:\\MK images\\Preview\\Screenshot 2025-04-28 110502.png\",\n",
    "r\"E:\\MK images\\Preview\\Screenshot 2025-04-28 110523.png\",\n",
    "r\"E:\\MK images\\Preview\\Screenshot 2025-04-28 133942.png\",\n",
    "r\"E:\\MK images\\Preview\\Screenshot 2025-04-28 134009.png\",\n",
    "r\"E:\\MK images\\Preview\\Screenshot 2025-04-28 135759.png\",\n",
    "r\"E:\\MK images\\Preview\\Screenshot 2025-04-28 142255.png\",\n",
    "r\"E:\\MK images\\Preview\\Screenshot 2025-04-28 142441.png\",\n",
    "r\"E:\\MK images\\Preview\\Screenshot 2025-04-28 142512.png\",\n",
    "r\"E:\\MK images\\Preview\\Screenshot 2025-04-28 142626.png\",\n",
    "r\"E:\\MK images\\Preview\\Screenshot 2025-04-28 143350.png\",\n",
    "r\"E:\\MK images\\Preview\\Screenshot 2025-04-28 143422.png\",\n",
    "r\"E:\\MK images\\Preview\\Screenshot 2025-04-28 143456.png\",\n",
    "r\"E:\\MK images\\Preview\\Screenshot 2025-04-28 143523.png\",\n",
    "r\"E:\\MK images\\Preview\\Screenshot 2025-04-28 143556.png\",\n",
    "r\"E:\\MK images\\Preview\\Screenshot 2025-04-28 143618.png\",\n",
    "r\"E:\\MK images\\Preview\\Screenshot 2025-04-28 143634.png\",\n",
    "r\"E:\\MK images\\Preview\\Screenshot 2025-04-28 143701.png\",\n",
    "r\"E:\\MK images\\Preview\\Screenshot 2025-04-28 143733.png\",\n",
    "r\"E:\\MK images\\Preview\\Screenshot 2025-04-28 143752.png\",\n",
    "r\"E:\\MK images\\Preview\\Screenshot 2025-04-28 143849.png\",\n",
    "r\"E:\\MK images\\Preview\\Screenshot 2025-04-28 143920.png\",\n",
    "r\"E:\\MK images\\Preview\\Screenshot 2025-04-28 143944.png\",\n",
    "r\"E:\\MK images\\Preview\\Screenshot 2025-04-28 144114.png\",\n",
    "r\"E:\\MK images\\Preview\\Screenshot 2025-04-28 144340.png\",\n",
    "r\"E:\\MK images\\Preview\\Screenshot 2025-04-28 144358.png\",\n",
    "r\"E:\\MK images\\Preview\\Screenshot 2025-04-28 144423.png\",\n",
    "r\"E:\\MK images\\Preview\\Screenshot 2025-04-28 144500.png\",\n",
    "r\"E:\\MK images\\Preview\\Screenshot 2025-04-28 144518.png\",\n",
    "r\"E:\\MK images\\Preview\\Screenshot 2025-04-28 144544.png\",\n",
    "r\"E:\\MK images\\Preview\\Screenshot 2025-04-28 144604.png\",\n",
    "r\"E:\\MK images\\Preview\\Screenshot 2025-04-28 144623.png\",\n",
    "r\"E:\\MK images\\Preview\\Screenshot 2025-04-28 144652.png\",\n",
    "r\"E:\\MK images\\Preview\\Screenshot 2025-04-28 144712.png\"]\n",
    "\n",
    "for i in range(len(start)):\n",
    "    new_name=r\"E:\\MK images\\Preview\\MK {}_start.png\".format(i+1)\n",
    "    os.rename(start[i],new_name)\n",
    "    print(f'File has been renamed to {new_name}')\n"
   ]
  },
  {
   "cell_type": "code",
   "execution_count": 17,
   "id": "fecc0a33-de3f-418e-9408-2c48b7b28f39",
   "metadata": {},
   "outputs": [
    {
     "name": "stdout",
     "output_type": "stream",
     "text": [
      "{{Episode Nav}}\n",
      "\n",
      "__NOTO\n",
      "{{Episode Nav with Blooper}}\n",
      "\n",
      "__NOTO\n",
      "{{Episode Nav}}\n",
      "\n",
      "== Her\n",
      "{{Episode Nav}}\n",
      "\n",
      "== Her\n",
      "{{Episode Nav}}\n",
      "\n",
      "== Her\n",
      "{{Episode Nav}}\n",
      "\n",
      "== Her\n",
      "{{Episode Nav}}\n",
      "\n",
      "== Her\n",
      "{{Episode Nav}}\n",
      "\n",
      "== Her\n",
      "{{Episode Nav}}\n",
      "\n",
      "== Her\n",
      "{{Episode Nav}}\n",
      "\n",
      "== Her\n",
      "{{Episode Nav}}\n",
      "\n",
      "== Her\n",
      "{{Episode Nav with Blooper}}\n",
      "\n",
      "== Her\n",
      "{{Episode Nav}}\n",
      "\n",
      "== Her\n",
      "{{Episode Nav}}\n",
      "\n",
      "== Her\n",
      "{{Episode Nav}}\n",
      "\n",
      "== Her\n",
      "{{Episode Nav}}\n",
      "\n",
      "== Her\n",
      "{{Episode Nav}}\n",
      "\n",
      "== Her\n",
      "{{Episode Nav}}\n",
      "\n",
      "== Her\n",
      "{{Episode Nav}}\n",
      "\n",
      "== Her\n",
      "{{Episode Nav}}\n",
      "\n",
      "== Upd\n",
      "{{Episode Nav}}\n",
      "\n",
      "== Her\n",
      "{{Episode Nav with Blooper}}\n",
      "\n",
      "== Upd\n",
      "{{Episode Nav}}\n",
      "\n",
      "== Upd\n",
      "{{Episode Nav}}\n",
      "\n",
      "== Her\n",
      "{{Episode Nav with Blooper}}\n",
      "\n",
      "== Upd\n",
      "{{Episode Nav}}\n",
      "\n",
      "== Her\n",
      "{{Episode Nav}}\n",
      "\n",
      "== Her\n",
      "{{Episode Nav with Blooper}}\n",
      "\n",
      "== Her\n",
      "{{Episode Nav}}\n",
      "\n",
      "== Upd\n",
      "{{Episode Nav}}\n",
      "\n",
      "== Upd\n",
      "{{Episode Nav}}\n",
      "\n",
      "== Her\n",
      "{{Episode Nav}}\n",
      "\n",
      "== Her\n",
      "{{Episode Nav}}\n",
      "\n",
      "== Her\n"
     ]
    }
   ],
   "source": [
    "'''\n",
    "Marble Kingdoms {}, or MK {}, was uploaded to YouTube by [[Lost Marbles]] on {}. \n",
    "<gallery type=\"slider\"  widths=\"600\"  position=\"center\"  >\n",
    "File:MK2.png|《球球王国》第二季封面\n",
    "File:MK2 Map.png|《球球王国》第二季登场的各方势力\n",
    "</gallery>\n",
    "'''\n",
    "blooper=[2.5,12.5,22.5,25.5,28.5]\n",
    "for i in range(1,34):\n",
    "    page=pwb.Page(site, 'MK '+str(i))  # Page to edit\n",
    "    text=page.text\n",
    "    idx=text.find('}}')\n",
    "    print(text[:idx+10])"
   ]
  },
  {
   "cell_type": "code",
   "execution_count": 2,
   "id": "1e9ae0b2-41a3-4c68-86ca-1fce7b6553d0",
   "metadata": {},
   "outputs": [
    {
     "data": {
      "text/plain": [
       "[\"'''Marble Kingdoms 1 (MK 1)''', was uploaded to YouTube by [[Lost Marbles]] on April 28th, 2023. \",\n",
       " \"'''Marble Kingdoms 2 (MK 2)''', was uploaded to YouTube by [[Lost Marbles]] on May 6th, 2023. \",\n",
       " \"'''Marble Kingdoms 3 (MK 3)''', was uploaded to YouTube by [[Lost Marbles]] on May 12th, 2023. \",\n",
       " \"'''Marble Kingdoms 4 (MK 4)''', was uploaded to YouTube by [[Lost Marbles]] on May 17th, 2023. \",\n",
       " \"'''Marble Kingdoms 5 (MK 5)''', was uploaded to YouTube by [[Lost Marbles]] on May 26th, 2023. \",\n",
       " \"'''Marble Kingdoms 6 (MK 6)''', was uploaded to YouTube by [[Lost Marbles]] on June 1st, 2023. \",\n",
       " \"'''Marble Kingdoms 7 (MK 7)''', was uploaded to YouTube by [[Lost Marbles]] on June 10th, 2023. \",\n",
       " \"'''Marble Kingdoms 8 (MK 8)''', was uploaded to YouTube by [[Lost Marbles]] on June 17th, 2023. \",\n",
       " \"'''Marble Kingdoms 9 (MK 9)''', was uploaded to YouTube by [[Lost Marbles]] on June 30th, 2023. \",\n",
       " \"'''Marble Kingdoms 10 (MK 10)''', was uploaded to YouTube by [[Lost Marbles]] on July 20th, 2023. \",\n",
       " \"'''Marble Kingdoms 11 (MK 11)''', was uploaded to YouTube by [[Lost Marbles]] on August 10th, 2023. \",\n",
       " \"'''Marble Kingdoms 12 (MK 12)''', was uploaded to YouTube by [[Lost Marbles]] on August 23rd, 2023. \",\n",
       " \"'''Marble Kingdoms 13 (MK 13)''', was uploaded to YouTube by [[Lost Marbles]] on September 24th, 2023. \",\n",
       " \"'''Marble Kingdoms 14 (MK 14)''', was uploaded to YouTube by [[Lost Marbles]] on October 12th, 2023. \",\n",
       " \"'''Marble Kingdoms 15 (MK 15)''', was uploaded to YouTube by [[Lost Marbles]] on November 20th, 2023. \",\n",
       " \"'''Marble Kingdoms 16 (MK 16)''', was uploaded to YouTube by [[Lost Marbles]] on December 22nd, 2023. \",\n",
       " \"'''Marble Kingdoms 17 (MK 17)''', was uploaded to YouTube by [[Lost Marbles]] on January 25th, 2024. \",\n",
       " \"'''Marble Kingdoms 18 (MK 18)''', was uploaded to YouTube by [[Lost Marbles]] on February 22nd, 2024. \",\n",
       " \"'''Marble Kingdoms 19 (MK 19)''', was uploaded to YouTube by [[Lost Marbles]] on March 20th, 2024. \",\n",
       " \"'''Marble Kingdoms 20 (MK 20)''', was uploaded to YouTube by [[Lost Marbles]] on April 19th, 2024. \",\n",
       " \"'''Marble Kingdoms 21 (MK 21)''', was uploaded to YouTube by [[Lost Marbles]] on May 22nd, 2024. \",\n",
       " \"'''Marble Kingdoms 22 (MK 22)''', was uploaded to YouTube by [[Lost Marbles]] on June 18th, 2024. \",\n",
       " \"'''Marble Kingdoms 23 (MK 23)''', was uploaded to YouTube by [[Lost Marbles]] on July 24th, 2024. \",\n",
       " \"'''Marble Kingdoms 24 (MK 24)''', was uploaded to YouTube by [[Lost Marbles]] on August 30th, 2024. \",\n",
       " \"'''Marble Kingdoms 25 (MK 25)''', was uploaded to YouTube by [[Lost Marbles]] on September 26th, 2024. \",\n",
       " \"'''Marble Kingdoms 26 (MK 26)''', was uploaded to YouTube by [[Lost Marbles]] on October 17th, 2024. \",\n",
       " \"'''Marble Kingdoms 27 (MK 27)''', was uploaded to YouTube by [[Lost Marbles]] on November 7th, 2024. \",\n",
       " \"'''Marble Kingdoms 28 (MK 28)''', was uploaded to YouTube by [[Lost Marbles]] on December 12th, 2024. \",\n",
       " \"'''Marble Kingdoms 29 (MK 29)''', was uploaded to YouTube by [[Lost Marbles]] on January 25th, 2025. \",\n",
       " \"'''Marble Kingdoms 30 (MK 30)''', was uploaded to YouTube by [[Lost Marbles]] on February 23rd, 2025. \",\n",
       " \"'''Marble Kingdoms 31 (MK 31)''', was uploaded to YouTube by [[Lost Marbles]] on March 14th, 2025. \",\n",
       " \"'''Marble Kingdoms 32 (MK 32)''', was uploaded to YouTube by [[Lost Marbles]] on March 21st, 2025. \",\n",
       " \"'''Marble Kingdoms 33 (MK 33)''', was uploaded to YouTube by [[Lost Marbles]] on April 3rd, 2025. \"]"
      ]
     },
     "execution_count": 2,
     "metadata": {},
     "output_type": "execute_result"
    }
   ],
   "source": [
    "months=['January','February','March','April','May','June','July','August','September','October','November','December']\n",
    "def date_trans(ori):\n",
    "    if ori[2]=='1' or ori[2]=='21' or ori[2]=='31':\n",
    "        day=ori[2]+'st'\n",
    "    elif ori[2]=='2' or ori[2]=='22':\n",
    "        day=ori[2]+'nd'\n",
    "    elif ori[2]=='3' or ori[2]=='23':\n",
    "        day=ori[2]+'rd'\n",
    "    else:\n",
    "        day=ori[2]+'th'\n",
    "    return months[int(ori[1])-1]+' '+day+', '+ori[0]\n",
    "raw='''2023,4,28\n",
    "2023,5,6\n",
    "2023,5,12\n",
    "2023,5,17\n",
    "2023,5,26\n",
    "2023,6,1\n",
    "2023,6,10\n",
    "2023,6,17\n",
    "2023,6,30\n",
    "2023,7,20\n",
    "2023,8,10\n",
    "2023,8,23\n",
    "2023,9,24\n",
    "2023,10,12\n",
    "2023,11,20\n",
    "2023,12,22\n",
    "2024,1,25\n",
    "2024,2,22\n",
    "2024,3,20\n",
    "2024,4,19\n",
    "2024,5,22\n",
    "2024,6,18\n",
    "2024,7,24\n",
    "2024,8,30\n",
    "2024,9,26\n",
    "2024,10,17\n",
    "2024,11,7\n",
    "2024,12,12\n",
    "2025,1,25\n",
    "2025,2,23\n",
    "2025,3,14\n",
    "2025,3,21\n",
    "2025,4,3'''.split('\\n')\n",
    "# 2024,7,29\n",
    "date=[]\n",
    "new_text=[]\n",
    "# Marble Kingdoms {}, or MK {}, was uploaded to YouTube by [[Lost Marbles]] on {}. \n",
    "for i in raw:\n",
    "    date.append(i.split(','))\n",
    "for i in range(1,34):\n",
    "    new_text.append(\"'''Marble Kingdoms {} (MK {})''' was uploaded to YouTube by [[Lost Marbles]] on {}. \".format(i,i,date_trans(date[i-1])))\n",
    "new_text"
   ]
  },
  {
   "cell_type": "code",
   "execution_count": 4,
   "id": "0f7589ac-7e18-49ee-9605-4a0f203a4a80",
   "metadata": {},
   "outputs": [
    {
     "name": "stderr",
     "output_type": "stream",
     "text": [
      "Page [[MK 1]] saved\n",
      "Sleeping for 9.1 seconds, 2025-04-29 11:07:54\n",
      "Page [[MK 2]] saved\n",
      "Sleeping for 9.1 seconds, 2025-04-29 11:08:04\n",
      "Page [[MK 3]] saved\n",
      "Sleeping for 8.9 seconds, 2025-04-29 11:08:14\n",
      "Page [[MK 4]] saved\n",
      "Sleeping for 9.0 seconds, 2025-04-29 11:08:24\n",
      "Page [[MK 5]] saved\n",
      "Sleeping for 9.1 seconds, 2025-04-29 11:08:34\n",
      "Page [[MK 6]] saved\n",
      "Sleeping for 8.7 seconds, 2025-04-29 11:08:44\n",
      "Page [[MK 7]] saved\n",
      "Sleeping for 9.1 seconds, 2025-04-29 11:08:54\n",
      "Page [[MK 8]] saved\n",
      "Sleeping for 8.9 seconds, 2025-04-29 11:09:04\n",
      "Page [[MK 9]] saved\n",
      "Sleeping for 8.9 seconds, 2025-04-29 11:09:14\n",
      "Page [[MK 10]] saved\n",
      "Sleeping for 9.1 seconds, 2025-04-29 11:09:24\n",
      "Page [[MK 11]] saved\n",
      "Sleeping for 8.9 seconds, 2025-04-29 11:09:34\n",
      "Page [[MK 12]] saved\n",
      "Sleeping for 9.0 seconds, 2025-04-29 11:09:44\n",
      "Page [[MK 13]] saved\n",
      "Sleeping for 9.1 seconds, 2025-04-29 11:09:54\n",
      "Page [[MK 14]] saved\n",
      "Sleeping for 9.0 seconds, 2025-04-29 11:10:04\n",
      "Page [[MK 15]] saved\n",
      "Sleeping for 9.1 seconds, 2025-04-29 11:10:14\n",
      "Page [[MK 16]] saved\n",
      "Sleeping for 9.1 seconds, 2025-04-29 11:10:24\n",
      "Page [[MK 17]] saved\n",
      "Sleeping for 9.1 seconds, 2025-04-29 11:10:34\n",
      "Page [[MK 18]] saved\n",
      "Sleeping for 8.8 seconds, 2025-04-29 11:10:44\n",
      "Page [[MK 19]] saved\n",
      "Sleeping for 9.0 seconds, 2025-04-29 11:10:54\n",
      "Page [[MK 20]] saved\n",
      "Sleeping for 9.1 seconds, 2025-04-29 11:11:04\n",
      "Page [[MK 21]] saved\n",
      "Sleeping for 9.1 seconds, 2025-04-29 11:11:14\n",
      "Page [[MK 22]] saved\n",
      "Sleeping for 9.0 seconds, 2025-04-29 11:11:24\n",
      "Page [[MK 23]] saved\n",
      "Sleeping for 9.0 seconds, 2025-04-29 11:11:34\n",
      "Page [[MK 24]] saved\n",
      "Sleeping for 9.1 seconds, 2025-04-29 11:11:44\n",
      "Page [[MK 25]] saved\n",
      "Sleeping for 8.9 seconds, 2025-04-29 11:11:54\n",
      "Page [[MK 26]] saved\n",
      "Sleeping for 9.0 seconds, 2025-04-29 11:12:04\n",
      "Page [[MK 27]] saved\n",
      "Sleeping for 9.0 seconds, 2025-04-29 11:12:14\n",
      "Page [[MK 28]] saved\n",
      "Sleeping for 9.0 seconds, 2025-04-29 11:12:24\n",
      "Page [[MK 29]] saved\n",
      "Sleeping for 9.0 seconds, 2025-04-29 11:12:34\n",
      "Page [[MK 30]] saved\n",
      "Sleeping for 9.1 seconds, 2025-04-29 11:12:44\n",
      "Page [[MK 31]] saved\n",
      "Sleeping for 9.0 seconds, 2025-04-29 11:12:54\n",
      "Page [[MK 32]] saved\n",
      "Sleeping for 9.1 seconds, 2025-04-29 11:13:04\n",
      "Page [[MK 33]] saved\n",
      "Sleeping for 8.8 seconds, 2025-04-29 11:13:14\n",
      "Page [[MK 12.5]] saved\n",
      "Sleeping for 9.1 seconds, 2025-04-29 11:13:24\n",
      "Page [[MK 22.5]] saved\n",
      "Sleeping for 9.1 seconds, 2025-04-29 11:13:34\n",
      "Page [[MK 25.5]] saved\n",
      "Sleeping for 8.9 seconds, 2025-04-29 11:13:44\n",
      "Page [[MK 28.5]] saved\n"
     ]
    }
   ],
   "source": [
    "new_text[22]=\"'''Marble Kingdoms 23 (MK 23)''' was separated into two parts. Part 1 was uploaded to YouTube by [[Lost Marbles]] on July 24th, 2024, while Part 2 was uploaded on July 29th, 2024. \"\n",
    "'''\n",
    "<gallery type=\"slideshow\" widths=\"600\" position=\"center\" >\n",
    "File:MK 2.5 preview.jpg|Video Preview Cover\n",
    "File:MK 2.5 start.png|MK 2.5 Map, Initial Position\n",
    "</gallery>\n",
    "'''\n",
    "\n",
    "for i in range(1,34):\n",
    "    page = pwb.Page(site, 'MK '+str(i))  # Page to edit\n",
    "    text = page.text\n",
    "    loc=text.find(',')\n",
    "    page.text = text[:loc]+text[loc+1:]\n",
    "    page.save(\"Bot: Add Slidebar\")\n",
    "    '''\n",
    "    check=input(page.text+'\\n\\nConfirm Edit? ')\n",
    "    if check[0]=='y' or check[0]=='Y':\n",
    "        print('Confirmed')\n",
    "        page.save(\"Bot: Mass Edit\")  # Edit summary\n",
    "    else:\n",
    "        break\n",
    "    '''\n",
    "blooper=[2.5,12.5,22.5,25.5,28.5]\n",
    "for i in range(1,5):\n",
    "    blp = blooper[i]\n",
    "    page = pwb.Page(site, 'MK '+str(blp))  # Page to edit\n",
    "    text = page.text\n",
    "    loc=text.find('}}')+3\n",
    "    new='''\n",
    "<gallery type=\"slideshow\" widths=\"600\" position=\"center\" >\n",
    "File:MK {} preview.jpg|MK {} Video Preview Cover\n",
    "File:MK {} start.png|MK {} Map, Initial Position\n",
    "</gallery>\n",
    "'''.format(blp,blp,blp,blp)\n",
    "    page.text = text[:loc]+new+text[loc:]\n",
    "    page.save(\"Bot: Add Slidebar\")\n",
    "    '''\n",
    "    check=input(page.text+'\\n\\nConfirm Edit? ')\n",
    "    if check[0]=='y' or check[0]=='Y':\n",
    "        print('Confirmed')\n",
    "        page.save(\"Bot: Mass Edit\")  # Edit summary\n",
    "    else:\n",
    "        break\n",
    "    '''"
   ]
  },
  {
   "cell_type": "code",
   "execution_count": 6,
   "id": "e77ce77d-04ed-4b12-8052-0512137a0d4b",
   "metadata": {},
   "outputs": [
    {
     "name": "stdout",
     "output_type": "stream",
     "text": [
      "Increased exp requirement for some units\n",
      "* Exp upgrade will no longer give bonus exp if there are no enemies in battle at a higher level than you\n",
      "* Reduced solo bonus exp from 1 to 0.5\n",
      "* Experience gain on hit increased to 0.1 * level difference between units, and provides no exp if the other unit is a lower level\n",
      "* Skeletons can no longer retreat\n",
      "* Fixed mage firewand not firing\n",
      "* Ragnarocks are no longer destroy towns belonging to the player that summoned the ragnarock.\n",
      "* Reduced archer attack launch angle window from 20 degrees to 5 degrees (improves accuracy)\n",
      "* Archers now unlock multishot as a separate ability at level 4 (basic attack will now always shoot 1 arrow)\n",
      "* Archers unlock dodge ability at level 1 (moves away from enemy on a cooldown)\n",
      "* Increased arrow damage\n",
      "* Reduced knifer ranged attack cooldown\n",
      "* Mustering on a full town will now increase its max garrison by 1\n",
      "* New town upgrade: training ground. Grants exp to newly trained units.\n",
      "* Towns/armies with 20 or more units can no longer defect/betray\n",
      "* Units can now only retreat after Kings, Princes and Captains have retreated, unless if they are level 3+\n",
      "* Hammerman has increased based health\n",
      "* Max army count is now whichever is greater between max army limit and half the number of towns\n",
      "* Footmen are back\n",
      "* The upgrade at game start now has 4 options: 20 Archers, 20 Footmen, 20 Spearmen, or 100 Exp shared between units\n",
      "* Necromancer - reduced ranged attack cooldown and increased damage\n",
      "* Mage - reduced pushback cooldown, reduced magic missile cooldown\n",
      "* Reaper - removed min speed requirement for damage\n",
      "* Bandit - increased move and spin speed\n",
      "* Removed randomness from Nope mechanic, and reduced threshold (makes it more likely for battles to occur)\n",
      "* Knight - increased base spin speed\n",
      "* New upgrade - 10% lifesteal\n",
      "* New upgrade - bigger weapons and increased damage per velocity\n",
      "* New/changed upgrade - rally - merges all towns’ troops into one army\n",
      "* Monk - reduced healing cooldown\n",
      "* New upgrade - charge ability - unit moves towards an enemy at great speed, becoming immune to damage for an instant\n",
      "* Names are now gained at level 1\n"
     ]
    }
   ],
   "source": [
    "text='''Increased exp requirement for some units\n",
    "Exp upgrade will no longer give bonus exp if there are no enemies in battle at a higher level than you\n",
    "Reduced solo bonus exp from 1 to 0.5\n",
    "Experience gain on hit increased to 0.1 * level difference between units, and provides no exp if the other unit is a lower level\n",
    "Skeletons can no longer retreat\n",
    "Fixed mage firewand not firing\n",
    "Ragnarocks are no longer destroy towns belonging to the player that summoned the ragnarock.\n",
    "Reduced archer attack launch angle window from 20 degrees to 5 degrees (improves accuracy)\n",
    "Archers now unlock multishot as a separate ability at level 4 (basic attack will now always shoot 1 arrow)\n",
    "Archers unlock dodge ability at level 1 (moves away from enemy on a cooldown)\n",
    "Increased arrow damage\n",
    "Reduced knifer ranged attack cooldown\n",
    "Mustering on a full town will now increase its max garrison by 1\n",
    "New town upgrade: training ground. Grants exp to newly trained units.\n",
    "Towns/armies with 20 or more units can no longer defect/betray\n",
    "Units can now only retreat after Kings, Princes and Captains have retreated, unless if they are level 3+\n",
    "Hammerman has increased based health\n",
    "Max army count is now whichever is greater between max army limit and half the number of towns\n",
    "Footmen are back\n",
    "The upgrade at game start now has 4 options: 20 Archers, 20 Footmen, 20 Spearmen, or 100 Exp shared between units\n",
    "Necromancer - reduced ranged attack cooldown and increased damage\n",
    "Mage - reduced pushback cooldown, reduced magic missile cooldown\n",
    "Reaper - removed min speed requirement for damage\n",
    "Bandit - increased move and spin speed\n",
    "Removed randomness from Nope mechanic, and reduced threshold (makes it more likely for battles to occur)\n",
    "Knight - increased base spin speed\n",
    "New upgrade - 10% lifesteal\n",
    "New upgrade - bigger weapons and increased damage per velocity\n",
    "New/changed upgrade - rally - merges all towns’ troops into one army\n",
    "Monk - reduced healing cooldown\n",
    "New upgrade - charge ability - unit moves towards an enemy at great speed, becoming immune to damage for an instant\n",
    "Names are now gained at level 1'''.split('\\n')\n",
    "print('\\n* '.join(text))"
   ]
  },
  {
   "cell_type": "code",
   "execution_count": 12,
   "id": "a24e8253-8533-42a7-a332-05c92faad2eb",
   "metadata": {},
   "outputs": [
    {
     "data": {
      "text/html": [
       "<div>\n",
       "<style scoped>\n",
       "    .dataframe tbody tr th:only-of-type {\n",
       "        vertical-align: middle;\n",
       "    }\n",
       "\n",
       "    .dataframe tbody tr th {\n",
       "        vertical-align: top;\n",
       "    }\n",
       "\n",
       "    .dataframe thead th {\n",
       "        text-align: right;\n",
       "    }\n",
       "</style>\n",
       "<table border=\"1\" class=\"dataframe\">\n",
       "  <thead>\n",
       "    <tr style=\"text-align: right;\">\n",
       "      <th></th>\n",
       "      <th>Level</th>\n",
       "      <th>Type</th>\n",
       "      <th>Color</th>\n",
       "      <th>Name</th>\n",
       "      <th>Birth</th>\n",
       "      <th>Death</th>\n",
       "      <th>Battles</th>\n",
       "      <th>Wins</th>\n",
       "      <th>WR</th>\n",
       "      <th>Kills</th>\n",
       "    </tr>\n",
       "  </thead>\n",
       "  <tbody>\n",
       "    <tr>\n",
       "      <th>0</th>\n",
       "      <td>10</td>\n",
       "      <td>Archer</td>\n",
       "      <td>Green</td>\n",
       "      <td>Dr Gherman</td>\n",
       "      <td>32:53</td>\n",
       "      <td>65:22</td>\n",
       "      <td>25.0</td>\n",
       "      <td>23.0</td>\n",
       "      <td>0.920000</td>\n",
       "      <td>117</td>\n",
       "    </tr>\n",
       "    <tr>\n",
       "      <th>1</th>\n",
       "      <td>8</td>\n",
       "      <td>Kingsguard</td>\n",
       "      <td>Green</td>\n",
       "      <td>Abil</td>\n",
       "      <td>0:00</td>\n",
       "      <td>61:11</td>\n",
       "      <td>24.0</td>\n",
       "      <td>23.0</td>\n",
       "      <td>0.958333</td>\n",
       "      <td>101</td>\n",
       "    </tr>\n",
       "    <tr>\n",
       "      <th>2</th>\n",
       "      <td>10</td>\n",
       "      <td>Archer</td>\n",
       "      <td>Orange</td>\n",
       "      <td>ToiletPaper</td>\n",
       "      <td>0:11</td>\n",
       "      <td>Alive</td>\n",
       "      <td>22.0</td>\n",
       "      <td>21.0</td>\n",
       "      <td>0.954545</td>\n",
       "      <td>85</td>\n",
       "    </tr>\n",
       "    <tr>\n",
       "      <th>3</th>\n",
       "      <td>7</td>\n",
       "      <td>Archer</td>\n",
       "      <td>Orange</td>\n",
       "      <td>AgentKat</td>\n",
       "      <td>0:11</td>\n",
       "      <td>Alive</td>\n",
       "      <td>19.0</td>\n",
       "      <td>19.0</td>\n",
       "      <td>1.000000</td>\n",
       "      <td>45</td>\n",
       "    </tr>\n",
       "    <tr>\n",
       "      <th>4</th>\n",
       "      <td>5</td>\n",
       "      <td>Archer</td>\n",
       "      <td>Green</td>\n",
       "      <td>Muffinskill XVIII</td>\n",
       "      <td>36:55</td>\n",
       "      <td>65:04</td>\n",
       "      <td>15.0</td>\n",
       "      <td>13.0</td>\n",
       "      <td>0.866667</td>\n",
       "      <td>32</td>\n",
       "    </tr>\n",
       "    <tr>\n",
       "      <th>5</th>\n",
       "      <td>5</td>\n",
       "      <td>Prince</td>\n",
       "      <td>Red</td>\n",
       "      <td>Lear</td>\n",
       "      <td>0:00</td>\n",
       "      <td>29:14</td>\n",
       "      <td>10.0</td>\n",
       "      <td>7.0</td>\n",
       "      <td>0.700000</td>\n",
       "      <td>24</td>\n",
       "    </tr>\n",
       "    <tr>\n",
       "      <th>6</th>\n",
       "      <td>3</td>\n",
       "      <td>Archer</td>\n",
       "      <td>Green</td>\n",
       "      <td>SQbuilder</td>\n",
       "      <td>25:16&lt;br&gt;57:11</td>\n",
       "      <td>43:26&lt;br&gt;64:35</td>\n",
       "      <td>11.0</td>\n",
       "      <td>11.0</td>\n",
       "      <td>1.000000</td>\n",
       "      <td>31</td>\n",
       "    </tr>\n",
       "    <tr>\n",
       "      <th>7</th>\n",
       "      <td>4</td>\n",
       "      <td>Farmer</td>\n",
       "      <td>Neutral</td>\n",
       "      <td>Hubard</td>\n",
       "      <td>0:00</td>\n",
       "      <td>16:01</td>\n",
       "      <td>3.0</td>\n",
       "      <td>1.0</td>\n",
       "      <td>0.333333</td>\n",
       "      <td>20</td>\n",
       "    </tr>\n",
       "    <tr>\n",
       "      <th>8</th>\n",
       "      <td>4</td>\n",
       "      <td>Prince</td>\n",
       "      <td>Orange</td>\n",
       "      <td>Aregnorak</td>\n",
       "      <td>0:00</td>\n",
       "      <td>Alive</td>\n",
       "      <td>19.0</td>\n",
       "      <td>18.0</td>\n",
       "      <td>0.947368</td>\n",
       "      <td>18</td>\n",
       "    </tr>\n",
       "    <tr>\n",
       "      <th>9</th>\n",
       "      <td>3</td>\n",
       "      <td>Spearman</td>\n",
       "      <td>Cyan</td>\n",
       "      <td>Bagio</td>\n",
       "      <td>0:06</td>\n",
       "      <td>25:58</td>\n",
       "      <td>5.0</td>\n",
       "      <td>4.0</td>\n",
       "      <td>0.800000</td>\n",
       "      <td>17</td>\n",
       "    </tr>\n",
       "    <tr>\n",
       "      <th>10</th>\n",
       "      <td>6</td>\n",
       "      <td>Monk</td>\n",
       "      <td>Magenta</td>\n",
       "      <td>Mr Xing</td>\n",
       "      <td>10:34</td>\n",
       "      <td>46:49</td>\n",
       "      <td>12.0</td>\n",
       "      <td>10.0</td>\n",
       "      <td>0.833333</td>\n",
       "      <td>16</td>\n",
       "    </tr>\n",
       "    <tr>\n",
       "      <th>11</th>\n",
       "      <td>4</td>\n",
       "      <td>Fighter</td>\n",
       "      <td>Yellow</td>\n",
       "      <td>Egglert</td>\n",
       "      <td>0:00</td>\n",
       "      <td>3:23</td>\n",
       "      <td>1.0</td>\n",
       "      <td>1.0</td>\n",
       "      <td>1.000000</td>\n",
       "      <td>16</td>\n",
       "    </tr>\n",
       "    <tr>\n",
       "      <th>12</th>\n",
       "      <td>3</td>\n",
       "      <td>Fighter</td>\n",
       "      <td>Purple</td>\n",
       "      <td>Gudako Emiya</td>\n",
       "      <td>10:00</td>\n",
       "      <td>17:35</td>\n",
       "      <td>4.0</td>\n",
       "      <td>2.0</td>\n",
       "      <td>0.500000</td>\n",
       "      <td>16</td>\n",
       "    </tr>\n",
       "    <tr>\n",
       "      <th>13</th>\n",
       "      <td>3</td>\n",
       "      <td>Spearman</td>\n",
       "      <td>Magenta</td>\n",
       "      <td>Spqr</td>\n",
       "      <td>0:08</td>\n",
       "      <td>41:01</td>\n",
       "      <td>9.0</td>\n",
       "      <td>8.0</td>\n",
       "      <td>0.888889</td>\n",
       "      <td>14</td>\n",
       "    </tr>\n",
       "    <tr>\n",
       "      <th>14</th>\n",
       "      <td>3</td>\n",
       "      <td>Prince</td>\n",
       "      <td>Purple</td>\n",
       "      <td>Areston</td>\n",
       "      <td>0:00</td>\n",
       "      <td>22:44</td>\n",
       "      <td>NaN</td>\n",
       "      <td>NaN</td>\n",
       "      <td>NaN</td>\n",
       "      <td>14</td>\n",
       "    </tr>\n",
       "    <tr>\n",
       "      <th>15</th>\n",
       "      <td>3</td>\n",
       "      <td>Spearman</td>\n",
       "      <td>Magenta</td>\n",
       "      <td>Vorbius</td>\n",
       "      <td>Get name at 17:33</td>\n",
       "      <td>40:52</td>\n",
       "      <td>NaN</td>\n",
       "      <td>NaN</td>\n",
       "      <td>NaN</td>\n",
       "      <td>14</td>\n",
       "    </tr>\n",
       "    <tr>\n",
       "      <th>16</th>\n",
       "      <td>3</td>\n",
       "      <td>Archer</td>\n",
       "      <td>Red-&gt;Orange</td>\n",
       "      <td>Arcadious</td>\n",
       "      <td>28:18</td>\n",
       "      <td>Alive</td>\n",
       "      <td>11.0</td>\n",
       "      <td>11.0</td>\n",
       "      <td>1.000000</td>\n",
       "      <td>12</td>\n",
       "    </tr>\n",
       "    <tr>\n",
       "      <th>17</th>\n",
       "      <td>3</td>\n",
       "      <td>Archer</td>\n",
       "      <td>Red-&gt;Orange</td>\n",
       "      <td>AzsakVonTriger</td>\n",
       "      <td>30:41</td>\n",
       "      <td>61:08</td>\n",
       "      <td>7.0</td>\n",
       "      <td>7.0</td>\n",
       "      <td>1.000000</td>\n",
       "      <td>7</td>\n",
       "    </tr>\n",
       "    <tr>\n",
       "      <th>18</th>\n",
       "      <td>6</td>\n",
       "      <td>Knight</td>\n",
       "      <td>Green</td>\n",
       "      <td>Herenfrida</td>\n",
       "      <td>62:10</td>\n",
       "      <td>65:22</td>\n",
       "      <td>1.0</td>\n",
       "      <td>1.0</td>\n",
       "      <td>1.000000</td>\n",
       "      <td>9</td>\n",
       "    </tr>\n",
       "    <tr>\n",
       "      <th>19</th>\n",
       "      <td>4</td>\n",
       "      <td>Monk</td>\n",
       "      <td>Red-&gt;Magenta</td>\n",
       "      <td>Thelord</td>\n",
       "      <td>10:39</td>\n",
       "      <td>40:47</td>\n",
       "      <td>11.0</td>\n",
       "      <td>5.0</td>\n",
       "      <td>0.454545</td>\n",
       "      <td>4</td>\n",
       "    </tr>\n",
       "  </tbody>\n",
       "</table>\n",
       "</div>"
      ],
      "text/plain": [
       "    Level        Type         Color               Name              Birth  \\\n",
       "0      10      Archer         Green         Dr Gherman              32:53   \n",
       "1       8  Kingsguard         Green               Abil               0:00   \n",
       "2      10      Archer        Orange        ToiletPaper               0:11   \n",
       "3       7      Archer        Orange           AgentKat               0:11   \n",
       "4       5      Archer         Green  Muffinskill XVIII              36:55   \n",
       "5       5      Prince           Red               Lear               0:00   \n",
       "6       3      Archer         Green          SQbuilder     25:16<br>57:11   \n",
       "7       4      Farmer       Neutral             Hubard               0:00   \n",
       "8       4      Prince        Orange          Aregnorak               0:00   \n",
       "9       3    Spearman          Cyan              Bagio               0:06   \n",
       "10      6        Monk       Magenta            Mr Xing              10:34   \n",
       "11      4     Fighter        Yellow            Egglert               0:00   \n",
       "12      3     Fighter        Purple       Gudako Emiya              10:00   \n",
       "13      3    Spearman       Magenta               Spqr               0:08   \n",
       "14      3      Prince        Purple            Areston               0:00   \n",
       "15      3    Spearman       Magenta            Vorbius  Get name at 17:33   \n",
       "16      3      Archer   Red->Orange          Arcadious              28:18   \n",
       "17      3      Archer   Red->Orange     AzsakVonTriger              30:41   \n",
       "18      6      Knight         Green         Herenfrida              62:10   \n",
       "19      4        Monk  Red->Magenta            Thelord              10:39   \n",
       "\n",
       "             Death  Battles  Wins        WR  Kills  \n",
       "0            65:22     25.0  23.0  0.920000    117  \n",
       "1            61:11     24.0  23.0  0.958333    101  \n",
       "2            Alive     22.0  21.0  0.954545     85  \n",
       "3            Alive     19.0  19.0  1.000000     45  \n",
       "4            65:04     15.0  13.0  0.866667     32  \n",
       "5            29:14     10.0   7.0  0.700000     24  \n",
       "6   43:26<br>64:35     11.0  11.0  1.000000     31  \n",
       "7            16:01      3.0   1.0  0.333333     20  \n",
       "8            Alive     19.0  18.0  0.947368     18  \n",
       "9            25:58      5.0   4.0  0.800000     17  \n",
       "10           46:49     12.0  10.0  0.833333     16  \n",
       "11            3:23      1.0   1.0  1.000000     16  \n",
       "12           17:35      4.0   2.0  0.500000     16  \n",
       "13           41:01      9.0   8.0  0.888889     14  \n",
       "14           22:44      NaN   NaN       NaN     14  \n",
       "15           40:52      NaN   NaN       NaN     14  \n",
       "16           Alive     11.0  11.0  1.000000     12  \n",
       "17           61:08      7.0   7.0  1.000000      7  \n",
       "18           65:22      1.0   1.0  1.000000      9  \n",
       "19           40:47     11.0   5.0  0.454545      4  "
      ]
     },
     "execution_count": 12,
     "metadata": {},
     "output_type": "execute_result"
    }
   ],
   "source": [
    "df_mk34=pd.read_excel('ScoreMK34.xlsx')\n",
    "df_mk34"
   ]
  },
  {
   "cell_type": "code",
   "execution_count": 12,
   "id": "465671c5-d647-4b17-abb6-20aec1769445",
   "metadata": {},
   "outputs": [
    {
     "name": "stdout",
     "output_type": "stream",
     "text": [
      "\n",
      "\n",
      "===Level 10===\n",
      "'''[[Dr Gherman]], [[ToiletPaper]]'''\n",
      "\n",
      "===Level 8===\n",
      "'''[[Abil]]'''\n",
      "\n",
      "===Level 7===\n",
      "'''[[AgentKat]]'''\n",
      "\n",
      "===Level 6===\n",
      "[[Mr Xing]], [[Herenfrida]]\n",
      "\n",
      "===Level 5===\n",
      "[[Muffinskill XVIII]], [[Lear]]\n",
      "\n",
      "===Level 4===\n",
      "[[SQbuilder]], [[Hubard]], [[Aregnorak]], [[Egglert]], [[Thelord]]\n",
      "\n",
      "===Level 3===\n",
      "[[Bagio]], [[Gudako Emiya]], [[Spqr]], [[Areston]], [[Vorbius]], [[Arcadious]], [[Albelenda]], [[AzsakVonTriger]]\n"
     ]
    }
   ],
   "source": [
    "# ==Heroes of MK 34==\n",
    "new_text=''\n",
    "for i in range(10,2,-1):\n",
    "    if len(df_mk34[df_mk34['Level']==i])==0:\n",
    "        continue\n",
    "    new_text+='\\n\\n===Level {}===\\n'.format(i)\n",
    "    if i>6:\n",
    "        new_text+=\"'''\"\n",
    "    for index, row in df_mk34[df_mk34['Level']==i].iterrows():\n",
    "        if i==3 and row['Name']=='SQbuilder':\n",
    "            continue\n",
    "        new_text+='[[{}]], '.format(row['Name'])\n",
    "    new_text=new_text[:-2]\n",
    "    if i>6:\n",
    "        new_text+=\"'''\"\n",
    "print(new_text)"
   ]
  },
  {
   "cell_type": "code",
   "execution_count": 13,
   "id": "9e30ee9c-4ae3-49cd-b43f-e0f99ede8457",
   "metadata": {},
   "outputs": [
    {
     "name": "stderr",
     "output_type": "stream",
     "text": [
      "Page [[MK 34]] saved\n"
     ]
    }
   ],
   "source": [
    "'''\n",
    "page=pwb.Page(site, 'MK 34')  # Page to edit\n",
    "text=page.text\n",
    "loc=text.find('==Heroes of MK 34==')+19\n",
    "page.text=text[:loc]+new_text+text[loc:]\n",
    "page.save(\"Bot: Add Names\")\n",
    "'''"
   ]
  },
  {
   "cell_type": "code",
   "execution_count": 2,
   "id": "68a3127f-9c35-4a7f-8f74-a69498703ee5",
   "metadata": {},
   "outputs": [
    {
     "data": {
      "text/html": [
       "<div>\n",
       "<style scoped>\n",
       "    .dataframe tbody tr th:only-of-type {\n",
       "        vertical-align: middle;\n",
       "    }\n",
       "\n",
       "    .dataframe tbody tr th {\n",
       "        vertical-align: top;\n",
       "    }\n",
       "\n",
       "    .dataframe thead th {\n",
       "        text-align: right;\n",
       "    }\n",
       "</style>\n",
       "<table border=\"1\" class=\"dataframe\">\n",
       "  <thead>\n",
       "    <tr style=\"text-align: right;\">\n",
       "      <th></th>\n",
       "      <th>Name</th>\n",
       "      <th>Type</th>\n",
       "      <th>Color</th>\n",
       "      <th>Level</th>\n",
       "    </tr>\n",
       "  </thead>\n",
       "  <tbody>\n",
       "    <tr>\n",
       "      <th>0</th>\n",
       "      <td>Bischoff</td>\n",
       "      <td>Fighter</td>\n",
       "      <td>Red</td>\n",
       "      <td>10</td>\n",
       "    </tr>\n",
       "    <tr>\n",
       "      <th>1</th>\n",
       "      <td>Algomarbler II</td>\n",
       "      <td>Berserker</td>\n",
       "      <td>Neutral</td>\n",
       "      <td>6</td>\n",
       "    </tr>\n",
       "    <tr>\n",
       "      <th>2</th>\n",
       "      <td>Zergray</td>\n",
       "      <td>Knifer</td>\n",
       "      <td>Neutral</td>\n",
       "      <td>5</td>\n",
       "    </tr>\n",
       "    <tr>\n",
       "      <th>3</th>\n",
       "      <td>Green Ball</td>\n",
       "      <td>Mage</td>\n",
       "      <td>Red</td>\n",
       "      <td>5</td>\n",
       "    </tr>\n",
       "    <tr>\n",
       "      <th>4</th>\n",
       "      <td>Ingeram</td>\n",
       "      <td>Berserker</td>\n",
       "      <td>Blue</td>\n",
       "      <td>4</td>\n",
       "    </tr>\n",
       "    <tr>\n",
       "      <th>5</th>\n",
       "      <td>Technomancer II</td>\n",
       "      <td>Fighter</td>\n",
       "      <td>Red</td>\n",
       "      <td>4</td>\n",
       "    </tr>\n",
       "    <tr>\n",
       "      <th>6</th>\n",
       "      <td>Comeleofu</td>\n",
       "      <td>Necromancer</td>\n",
       "      <td>Red</td>\n",
       "      <td>4</td>\n",
       "    </tr>\n",
       "  </tbody>\n",
       "</table>\n",
       "</div>"
      ],
      "text/plain": [
       "              Name         Type    Color  Level\n",
       "0         Bischoff      Fighter      Red     10\n",
       "1   Algomarbler II    Berserker  Neutral      6\n",
       "2          Zergray       Knifer  Neutral      5\n",
       "3       Green Ball         Mage      Red      5\n",
       "4          Ingeram    Berserker     Blue      4\n",
       "5  Technomancer II      Fighter      Red      4\n",
       "6        Comeleofu  Necromancer      Red      4"
      ]
     },
     "execution_count": 2,
     "metadata": {},
     "output_type": "execute_result"
    }
   ],
   "source": [
    "df_mk33=pd.DataFrame({\n",
    "    'Name':['Bischoff', 'Algomarbler II', 'Zergray', 'Green Ball', 'Ingeram', 'Technomancer II', 'Comeleofu'],\n",
    "    'Type':['Fighter', 'Berserker', 'Knifer', 'Mage', 'Berserker', 'Fighter', 'Necromancer'],\n",
    "    'Color':['Red', 'Neutral', 'Neutral', 'Red', 'Blue', 'Red', 'Red'],\n",
    "    'Level':[10, 6, 5, 5, 4, 4, 4]\n",
    "})\n",
    "text='''{{Character\n",
    "|name={}\n",
    "|image=\n",
    "|imagecaption=\n",
    "|aliases=\n",
    "|appearsin=MK 34\n",
    "|affiliation={}\n",
    "|Class Type=\n",
    "|birthDate={}\n",
    "|birthPlace=\n",
    "|deathDate={}\n",
    "|deathPlace=\n",
    "|Level={}\n",
    "|Total Killcount={}\n",
    "|Num Battles={}\n",
    "|Wins={}\n",
    "|WR={}\n",
    "|relatives=\n",
    "|enemies=\n",
    "}}\n",
    "{} [{}] was a {} {} in [[MK 34]].'''#.format()\n",
    "# Inconclusive about conversion or defection\n",
    "df_mk33"
   ]
  },
  {
   "cell_type": "code",
   "execution_count": 3,
   "id": "48038484-9c0c-48b6-a057-e293a9e11b45",
   "metadata": {},
   "outputs": [
    {
     "name": "stdout",
     "output_type": "stream",
     "text": [
      "Archers Spearmen\n"
     ]
    }
   ],
   "source": [
    "def pl(word):\n",
    "    if word[-3:]=='man':\n",
    "        return word[:-3]+'men'\n",
    "    else:\n",
    "        return word+'s'\n",
    "print(pl('Archer'),pl('Spearman'))"
   ]
  },
  {
   "cell_type": "code",
   "execution_count": 6,
   "id": "2b66dac3-92bc-4aab-929d-62bad99a883a",
   "metadata": {},
   "outputs": [
    {
     "name": "stderr",
     "output_type": "stream",
     "text": [
      "Page [[Bischoff]] saved\n",
      "Sleeping for 19.0 seconds, 2025-05-01 10:47:33\n",
      "Page [[Algomarbler II]] saved\n",
      "Sleeping for 18.9 seconds, 2025-05-01 10:47:53\n",
      "Page [[Zergray]] saved\n",
      "Sleeping for 19.0 seconds, 2025-05-01 10:48:13\n",
      "Page [[Green Ball]] saved\n",
      "Sleeping for 19.0 seconds, 2025-05-01 10:48:33\n",
      "Page [[Ingeram]] saved\n",
      "Sleeping for 9.0 seconds, 2025-05-01 10:48:53\n",
      "Page [[Technomancer II]] saved\n",
      "Sleeping for 9.0 seconds, 2025-05-01 10:49:03\n",
      "Page [[Comeleofu]] saved\n"
     ]
    }
   ],
   "source": [
    "for index, row in df_mk33.iterrows():\n",
    "    page = pwb.Page(site, row['Name'])  # Page to edit\n",
    "    page.text='''{{{{Character\n",
    "|name={name}\n",
    "|image={image}\n",
    "|imagecaption=\n",
    "|aliases=\n",
    "|appearsin=MK 33\n",
    "|affiliation={color}\n",
    "|Class Type={tp}\n",
    "|birthDate=\n",
    "|birthPlace=\n",
    "|deathDate=\n",
    "|deathPlace=\n",
    "|Level={level}\n",
    "|Total Killcount=\n",
    "|Num Battles=\n",
    "|Wins=\n",
    "|WR=\n",
    "|relatives=\n",
    "|enemies=\n",
    "}}}}\n",
    "{name} [{level}] was a {color} {tp} in [[MK 33]].\n",
    "\n",
    "[[Category:{tps}]]\n",
    "[[Category:{color}]]\n",
    "[[Category:Level {level}]]'''.format(name=row['Name'],image=row['Name']+'.png',color=row['Color'],tp=row['Type'],level=row['Level'],tps=pl(row['Type']))\n",
    "    page.save('Bot: Auto Fill')"
   ]
  },
  {
   "cell_type": "code",
   "execution_count": 13,
   "id": "41dc79bb-190f-4713-82bc-3faaeea82ca4",
   "metadata": {},
   "outputs": [
    {
     "name": "stderr",
     "output_type": "stream",
     "text": [
      "ERROR: Logged in as '154.19.241.105' instead of 'Louisa-Bot'. Forcing re-login.\n",
      "Logging in to marble_kingdoms:en as Louisa-Bot@Louisa-Bot\n",
      "Page [[Dr Gherman]] saved\n",
      "Sleeping for 8.8 seconds, 2025-05-01 14:00:57\n",
      "Page [[Abil]] saved\n",
      "Sleeping for 8.4 seconds, 2025-05-01 14:01:07\n",
      "Page [[ToiletPaper]] saved\n",
      "Sleeping for 8.9 seconds, 2025-05-01 14:01:17\n",
      "Page [[AgentKat]] saved\n",
      "Sleeping for 8.8 seconds, 2025-05-01 14:01:27\n",
      "Page [[Muffinskill XVIII]] saved\n",
      "Sleeping for 8.3 seconds, 2025-05-01 14:01:38\n",
      "Page [[SQbuilder]] saved\n",
      "Sleeping for 8.8 seconds, 2025-05-01 14:01:47\n",
      "Page [[Hubard]] saved\n",
      "Sleeping for 8.2 seconds, 2025-05-01 14:01:58\n",
      "Page [[Aregnorak]] saved\n",
      "Sleeping for 8.9 seconds, 2025-05-01 14:02:07\n",
      "Page [[Bagio]] saved\n",
      "Sleeping for 8.6 seconds, 2025-05-01 14:02:17\n",
      "Page [[Mr Xing]] saved\n",
      "Sleeping for 8.9 seconds, 2025-05-01 14:02:27\n",
      "Page [[Egglert]] saved\n",
      "Sleeping for 8.9 seconds, 2025-05-01 14:02:37\n",
      "Page [[Gudako Emiya]] saved\n",
      "Sleeping for 8.8 seconds, 2025-05-01 14:02:47\n",
      "Page [[Spqr]] saved\n"
     ]
    },
    {
     "ename": "ValueError",
     "evalue": "cannot convert float NaN to integer",
     "output_type": "error",
     "traceback": [
      "\u001b[1;31m---------------------------------------------------------------------------\u001b[0m",
      "\u001b[1;31mValueError\u001b[0m                                Traceback (most recent call last)",
      "Cell \u001b[1;32mIn[13], line 30\u001b[0m\n\u001b[0;32m      3\u001b[0m         \u001b[38;5;28;01mcontinue\u001b[39;00m\n\u001b[0;32m      4\u001b[0m     page \u001b[38;5;241m=\u001b[39m pwb\u001b[38;5;241m.\u001b[39mPage(site, row[\u001b[38;5;124m'\u001b[39m\u001b[38;5;124mName\u001b[39m\u001b[38;5;124m'\u001b[39m])  \u001b[38;5;66;03m# Page to edit\u001b[39;00m\n\u001b[0;32m      5\u001b[0m     page\u001b[38;5;241m.\u001b[39mtext\u001b[38;5;241m=\u001b[39m\u001b[38;5;124m'''\u001b[39m\u001b[38;5;124m{{\u001b[39m\u001b[38;5;124m{{\u001b[39m\u001b[38;5;124mCharacter\u001b[39m\n\u001b[0;32m      6\u001b[0m \u001b[38;5;124m|name=\u001b[39m\u001b[38;5;132;01m{name}\u001b[39;00m\n\u001b[0;32m      7\u001b[0m \u001b[38;5;124m|image=\u001b[39m\u001b[38;5;132;01m{image}\u001b[39;00m\n\u001b[0;32m      8\u001b[0m \u001b[38;5;124m|imagecaption=\u001b[39m\n\u001b[0;32m      9\u001b[0m \u001b[38;5;124m|aliases=\u001b[39m\n\u001b[0;32m     10\u001b[0m \u001b[38;5;124m|appearsin=MK 34\u001b[39m\n\u001b[0;32m     11\u001b[0m \u001b[38;5;124m|affiliation=\u001b[39m\u001b[38;5;132;01m{color}\u001b[39;00m\n\u001b[0;32m     12\u001b[0m \u001b[38;5;124m|Class Type=\u001b[39m\u001b[38;5;132;01m{tp}\u001b[39;00m\n\u001b[0;32m     13\u001b[0m \u001b[38;5;124m|birthDate=\u001b[39m\u001b[38;5;132;01m{birth}\u001b[39;00m\n\u001b[0;32m     14\u001b[0m \u001b[38;5;124m|birthPlace=\u001b[39m\n\u001b[0;32m     15\u001b[0m \u001b[38;5;124m|deathDate=\u001b[39m\u001b[38;5;132;01m{death}\u001b[39;00m\n\u001b[0;32m     16\u001b[0m \u001b[38;5;124m|deathPlace=\u001b[39m\n\u001b[0;32m     17\u001b[0m \u001b[38;5;124m|Level=\u001b[39m\u001b[38;5;132;01m{level}\u001b[39;00m\n\u001b[0;32m     18\u001b[0m \u001b[38;5;124m|Total Killcount=\u001b[39m\u001b[38;5;132;01m{kill}\u001b[39;00m\n\u001b[0;32m     19\u001b[0m \u001b[38;5;124m|Num Battles=\u001b[39m\u001b[38;5;132;01m{numbt}\u001b[39;00m\n\u001b[0;32m     20\u001b[0m \u001b[38;5;124m|Wins=\u001b[39m\u001b[38;5;132;01m{win}\u001b[39;00m\n\u001b[0;32m     21\u001b[0m \u001b[38;5;124m|WR=\u001b[39m\u001b[38;5;132;01m{wr}\u001b[39;00m\n\u001b[0;32m     22\u001b[0m \u001b[38;5;124m|relatives=\u001b[39m\n\u001b[0;32m     23\u001b[0m \u001b[38;5;124m|enemies=\u001b[39m\n\u001b[0;32m     24\u001b[0m \u001b[38;5;124m}}}}\u001b[39m\n\u001b[0;32m     25\u001b[0m \u001b[38;5;132;01m{name}\u001b[39;00m\u001b[38;5;124m [\u001b[39m\u001b[38;5;132;01m{level}\u001b[39;00m\u001b[38;5;124m] was a \u001b[39m\u001b[38;5;132;01m{color}\u001b[39;00m\u001b[38;5;124m \u001b[39m\u001b[38;5;132;01m{tp}\u001b[39;00m\u001b[38;5;124m in [[MK 34]].\u001b[39m\n\u001b[0;32m     26\u001b[0m \n\u001b[0;32m     27\u001b[0m \u001b[38;5;124m[[Category:\u001b[39m\u001b[38;5;132;01m{tps}\u001b[39;00m\u001b[38;5;124m]]\u001b[39m\n\u001b[0;32m     28\u001b[0m \u001b[38;5;124m[[Category:\u001b[39m\u001b[38;5;132;01m{color}\u001b[39;00m\u001b[38;5;124m]]\u001b[39m\n\u001b[0;32m     29\u001b[0m \u001b[38;5;124m[[Category:Level \u001b[39m\u001b[38;5;132;01m{level}\u001b[39;00m\u001b[38;5;124m]]\u001b[39m\u001b[38;5;124m'''\u001b[39m\u001b[38;5;241m.\u001b[39mformat(name\u001b[38;5;241m=\u001b[39mrow[\u001b[38;5;124m'\u001b[39m\u001b[38;5;124mName\u001b[39m\u001b[38;5;124m'\u001b[39m],image\u001b[38;5;241m=\u001b[39mrow[\u001b[38;5;124m'\u001b[39m\u001b[38;5;124mName\u001b[39m\u001b[38;5;124m'\u001b[39m]\u001b[38;5;241m+\u001b[39m\u001b[38;5;124m'\u001b[39m\u001b[38;5;124m.png\u001b[39m\u001b[38;5;124m'\u001b[39m,color\u001b[38;5;241m=\u001b[39mrow[\u001b[38;5;124m'\u001b[39m\u001b[38;5;124mColor\u001b[39m\u001b[38;5;124m'\u001b[39m],tp\u001b[38;5;241m=\u001b[39mrow[\u001b[38;5;124m'\u001b[39m\u001b[38;5;124mType\u001b[39m\u001b[38;5;124m'\u001b[39m],level\u001b[38;5;241m=\u001b[39m\u001b[38;5;28mint\u001b[39m(row[\u001b[38;5;124m'\u001b[39m\u001b[38;5;124mLevel\u001b[39m\u001b[38;5;124m'\u001b[39m]),tps\u001b[38;5;241m=\u001b[39mpl(row[\u001b[38;5;124m'\u001b[39m\u001b[38;5;124mType\u001b[39m\u001b[38;5;124m'\u001b[39m]),\n\u001b[1;32m---> 30\u001b[0m                                     birth\u001b[38;5;241m=\u001b[39mrow[\u001b[38;5;124m'\u001b[39m\u001b[38;5;124mBirth\u001b[39m\u001b[38;5;124m'\u001b[39m],death\u001b[38;5;241m=\u001b[39mrow[\u001b[38;5;124m'\u001b[39m\u001b[38;5;124mDeath\u001b[39m\u001b[38;5;124m'\u001b[39m],kill\u001b[38;5;241m=\u001b[39m\u001b[38;5;28mint\u001b[39m(row[\u001b[38;5;124m'\u001b[39m\u001b[38;5;124mKills\u001b[39m\u001b[38;5;124m'\u001b[39m]),numbt\u001b[38;5;241m=\u001b[39m\u001b[38;5;28mint\u001b[39m(row[\u001b[38;5;124m'\u001b[39m\u001b[38;5;124mBattles\u001b[39m\u001b[38;5;124m'\u001b[39m]),win\u001b[38;5;241m=\u001b[39m\u001b[38;5;28mint\u001b[39m(row[\u001b[38;5;124m'\u001b[39m\u001b[38;5;124mWins\u001b[39m\u001b[38;5;124m'\u001b[39m]),wr\u001b[38;5;241m=\u001b[39m\u001b[38;5;124m\"\u001b[39m\u001b[38;5;132;01m{:.1%}\u001b[39;00m\u001b[38;5;124m\"\u001b[39m\u001b[38;5;241m.\u001b[39mformat(\u001b[38;5;28mfloat\u001b[39m(row[\u001b[38;5;124m'\u001b[39m\u001b[38;5;124mWR\u001b[39m\u001b[38;5;124m'\u001b[39m])))\n\u001b[0;32m     31\u001b[0m     page\u001b[38;5;241m.\u001b[39msave(\u001b[38;5;124m'\u001b[39m\u001b[38;5;124mBot: Auto Fill\u001b[39m\u001b[38;5;124m'\u001b[39m)\n",
      "\u001b[1;31mValueError\u001b[0m: cannot convert float NaN to integer"
     ]
    }
   ],
   "source": [
    "for index, row in df_mk34.iterrows():\n",
    "    if row['Name']=='Lear' or row['Name']=='Herenfrida':\n",
    "        continue\n",
    "    page = pwb.Page(site, row['Name'])  # Page to edit\n",
    "    page.text='''{{{{Character\n",
    "|name={name}\n",
    "|image={image}\n",
    "|imagecaption=\n",
    "|aliases=\n",
    "|appearsin=MK 34\n",
    "|affiliation={color}\n",
    "|Class Type={tp}\n",
    "|birthDate={birth}\n",
    "|birthPlace=\n",
    "|deathDate={death}\n",
    "|deathPlace=\n",
    "|Level={level}\n",
    "|Total Killcount={kill}\n",
    "|Num Battles={numbt}\n",
    "|Wins={win}\n",
    "|WR={wr}\n",
    "|relatives=\n",
    "|enemies=\n",
    "}}}}\n",
    "{name} [{level}] was a {color} {tp} in [[MK 34]].\n",
    "\n",
    "[[Category:{tps}]]\n",
    "[[Category:{color}]]\n",
    "[[Category:Level {level}]]'''.format(name=row['Name'],image=row['Name']+'.png',color=row['Color'],tp=row['Type'],level=int(row['Level']),tps=pl(row['Type']),\n",
    "                                    birth=row['Birth'],death=row['Death'],kill=int(row['Kills']),numbt=int(row['Battles']),win=int(row['Wins']),wr=\"{:.1%}\".format(float(row['WR'])))\n",
    "    page.save('Bot: Auto Fill')"
   ]
  },
  {
   "cell_type": "code",
   "execution_count": 9,
   "id": "ed14769f-b7ec-4944-bf7d-d015b6034399",
   "metadata": {},
   "outputs": [],
   "source": [
    "from PIL import Image, ImageEnhance\n",
    "\n",
    "# Open an image\n",
    "image = Image.open('E:/MK images/Content/MK 33/Green Ball.png')\n",
    "\n",
    "# Enhance color\n",
    "enhancer = ImageEnhance.Color(image)\n",
    "image = enhancer.enhance(1.5)  # 1.0 is original, >1 enhances\n",
    "\n",
    "# Enhance contrast\n",
    "enhancer = ImageEnhance.Contrast(image)\n",
    "image = enhancer.enhance(1.5)\n",
    "\n",
    "# Enhance brightness\n",
    "enhancer = ImageEnhance.Brightness(image)\n",
    "image = enhancer.enhance(1.2)\n",
    "\n",
    "# Enhance sharpness\n",
    "enhancer = ImageEnhance.Sharpness(image)\n",
    "image = enhancer.enhance(2.0)\n",
    "\n",
    "# Save the enhanced image\n",
    "image.save('E:/MK images/Content/MK 33/Green Ball2.png')"
   ]
  },
  {
   "cell_type": "code",
   "execution_count": 10,
   "id": "8bb42d0a-dbfc-42f2-8eb5-fe7b8e788b11",
   "metadata": {},
   "outputs": [
    {
     "name": "stderr",
     "output_type": "stream",
     "text": [
      "Page [[MK 1]] saved\n"
     ]
    },
    {
     "name": "stdout",
     "output_type": "stream",
     "text": [
      "IG__\n",
      "__NOINDEX__\n",
      "[[Category:Episodes]]\n",
      "[[zh:MK 1]]\n"
     ]
    },
    {
     "name": "stderr",
     "output_type": "stream",
     "text": [
      "Sleeping for 8.8 seconds, 2025-07-30 10:37:26\n",
      "Page [[MK 2]] saved\n"
     ]
    },
    {
     "name": "stdout",
     "output_type": "stream",
     "text": [
      "IG__\n",
      "__NOINDEX__\n",
      "[[Category:Episodes]]\n",
      "[[zh:MK 2]]\n"
     ]
    },
    {
     "name": "stderr",
     "output_type": "stream",
     "text": [
      "Sleeping for 8.8 seconds, 2025-07-30 10:37:36\n",
      "Page [[MK 3]] saved\n"
     ]
    },
    {
     "name": "stdout",
     "output_type": "stream",
     "text": [
      "IG__\n",
      "__NOINDEX__\n",
      "[[Category:Episodes]]\n",
      "[[zh:MK 3]]\n"
     ]
    },
    {
     "name": "stderr",
     "output_type": "stream",
     "text": [
      "Sleeping for 8.4 seconds, 2025-07-30 10:37:46\n",
      "Page [[MK 4]] saved\n"
     ]
    },
    {
     "name": "stdout",
     "output_type": "stream",
     "text": [
      "IG__\n",
      "__NOINDEX__\n",
      "[[Category:Episodes]]\n",
      "[[zh:MK 4]]\n"
     ]
    },
    {
     "name": "stderr",
     "output_type": "stream",
     "text": [
      "Sleeping for 9.0 seconds, 2025-07-30 10:37:56\n",
      "Page [[MK 5]] saved\n"
     ]
    },
    {
     "name": "stdout",
     "output_type": "stream",
     "text": [
      "IG__\n",
      "__NOINDEX__\n",
      "[[Category:Episodes]]\n",
      "[[zh:MK 5]]\n"
     ]
    },
    {
     "name": "stderr",
     "output_type": "stream",
     "text": [
      "Sleeping for 8.7 seconds, 2025-07-30 10:38:06\n",
      "Page [[MK 6]] saved\n"
     ]
    },
    {
     "name": "stdout",
     "output_type": "stream",
     "text": [
      "IG__\n",
      "__NOINDEX__\n",
      "[[Category:Episodes]]\n",
      "[[zh:MK 6]]\n"
     ]
    },
    {
     "name": "stderr",
     "output_type": "stream",
     "text": [
      "Sleeping for 8.9 seconds, 2025-07-30 10:38:16\n",
      "Page [[MK 7]] saved\n"
     ]
    },
    {
     "name": "stdout",
     "output_type": "stream",
     "text": [
      "IG__\n",
      "__NOINDEX__\n",
      "[[Category:Episodes]]\n",
      "[[zh:MK 7]]\n"
     ]
    },
    {
     "name": "stderr",
     "output_type": "stream",
     "text": [
      "Sleeping for 8.9 seconds, 2025-07-30 10:38:26\n",
      "Page [[MK 8]] saved\n"
     ]
    },
    {
     "name": "stdout",
     "output_type": "stream",
     "text": [
      "IG__\n",
      "__NOINDEX__\n",
      "[[Category:Episodes]]\n",
      "[[zh:MK 8]]\n"
     ]
    },
    {
     "name": "stderr",
     "output_type": "stream",
     "text": [
      "Sleeping for 8.9 seconds, 2025-07-30 10:38:36\n",
      "Page [[MK 9]] saved\n"
     ]
    },
    {
     "name": "stdout",
     "output_type": "stream",
     "text": [
      "IG__\n",
      "__NOINDEX__\n",
      "[[Category:Episodes]]\n",
      "[[zh:MK 9]]\n"
     ]
    },
    {
     "name": "stderr",
     "output_type": "stream",
     "text": [
      "Sleeping for 8.9 seconds, 2025-07-30 10:38:46\n",
      "Page [[MK 10]] saved\n"
     ]
    },
    {
     "name": "stdout",
     "output_type": "stream",
     "text": [
      "G__\n",
      "__NOINDEX__\n",
      "[[Category:Episodes]]\n",
      "[[zh:MK 10]]\n"
     ]
    },
    {
     "name": "stderr",
     "output_type": "stream",
     "text": [
      "Sleeping for 8.9 seconds, 2025-07-30 10:38:56\n",
      "Page [[MK 11]] saved\n"
     ]
    },
    {
     "name": "stdout",
     "output_type": "stream",
     "text": [
      "G__\n",
      "__NOINDEX__\n",
      "[[Category:Episodes]]\n",
      "[[zh:MK 11]]\n"
     ]
    },
    {
     "name": "stderr",
     "output_type": "stream",
     "text": [
      "Sleeping for 8.9 seconds, 2025-07-30 10:39:06\n",
      "Page [[MK 12]] saved\n"
     ]
    },
    {
     "name": "stdout",
     "output_type": "stream",
     "text": [
      "G__\n",
      "__NOINDEX__\n",
      "[[Category:Episodes]]\n",
      "[[zh:MK 12]]\n"
     ]
    },
    {
     "name": "stderr",
     "output_type": "stream",
     "text": [
      "Sleeping for 8.9 seconds, 2025-07-30 10:39:16\n",
      "Page [[MK 13]] saved\n"
     ]
    },
    {
     "name": "stdout",
     "output_type": "stream",
     "text": [
      "G__\n",
      "__NOINDEX__\n",
      "[[Category:Episodes]]\n",
      "[[zh:MK 13]]\n"
     ]
    },
    {
     "name": "stderr",
     "output_type": "stream",
     "text": [
      "Sleeping for 8.9 seconds, 2025-07-30 10:39:26\n",
      "Page [[MK 14]] saved\n"
     ]
    },
    {
     "name": "stdout",
     "output_type": "stream",
     "text": [
      "G__\n",
      "__NOINDEX__\n",
      "[[Category:Episodes]]\n",
      "[[zh:MK 14]]\n"
     ]
    },
    {
     "name": "stderr",
     "output_type": "stream",
     "text": [
      "Sleeping for 8.9 seconds, 2025-07-30 10:39:36\n",
      "Page [[MK 15]] saved\n"
     ]
    },
    {
     "name": "stdout",
     "output_type": "stream",
     "text": [
      "G__\n",
      "__NOINDEX__\n",
      "[[Category:Episodes]]\n",
      "[[zh:MK 15]]\n"
     ]
    },
    {
     "name": "stderr",
     "output_type": "stream",
     "text": [
      "Sleeping for 7.8 seconds, 2025-07-30 10:39:47\n",
      "Page [[MK 16]] saved\n"
     ]
    },
    {
     "name": "stdout",
     "output_type": "stream",
     "text": [
      "G__\n",
      "__NOINDEX__\n",
      "[[Category:Episodes]]\n",
      "[[zh:MK 16]]\n"
     ]
    },
    {
     "name": "stderr",
     "output_type": "stream",
     "text": [
      "Sleeping for 8.9 seconds, 2025-07-30 10:39:56\n",
      "Page [[MK 17]] saved\n"
     ]
    },
    {
     "name": "stdout",
     "output_type": "stream",
     "text": [
      "G__\n",
      "__NOINDEX__\n",
      "[[Category:Episodes]]\n",
      "[[zh:MK 17]]\n"
     ]
    },
    {
     "name": "stderr",
     "output_type": "stream",
     "text": [
      "Sleeping for 4.2 seconds, 2025-07-30 10:40:11\n",
      "Page [[MK 18]] saved\n"
     ]
    },
    {
     "name": "stdout",
     "output_type": "stream",
     "text": [
      "G__\n",
      "__NOINDEX__\n",
      "[[Category:Episodes]]\n",
      "[[zh:MK 18]]\n"
     ]
    },
    {
     "name": "stderr",
     "output_type": "stream",
     "text": [
      "Sleeping for 8.7 seconds, 2025-07-30 10:40:16\n",
      "Page [[MK 19]] saved\n"
     ]
    },
    {
     "name": "stdout",
     "output_type": "stream",
     "text": [
      "G__\n",
      "__NOINDEX__\n",
      "[[Category:Episodes]]\n",
      "[[zh:MK 19]]\n"
     ]
    },
    {
     "name": "stderr",
     "output_type": "stream",
     "text": [
      "Sleeping for 8.9 seconds, 2025-07-30 10:40:26\n",
      "Page [[MK 20]] saved\n"
     ]
    },
    {
     "name": "stdout",
     "output_type": "stream",
     "text": [
      "G__\n",
      "__NOINDEX__\n",
      "[[Category:Episodes]]\n",
      "[[zh:MK 20]]\n"
     ]
    },
    {
     "name": "stderr",
     "output_type": "stream",
     "text": [
      "Sleeping for 8.2 seconds, 2025-07-30 10:40:37\n",
      "Page [[MK 21]] saved\n"
     ]
    },
    {
     "name": "stdout",
     "output_type": "stream",
     "text": [
      "G__\n",
      "__NOINDEX__\n",
      "[[Category:Episodes]]\n",
      "[[zh:MK 21]]\n"
     ]
    },
    {
     "name": "stderr",
     "output_type": "stream",
     "text": [
      "Sleeping for 8.6 seconds, 2025-07-30 10:40:46\n",
      "Page [[MK 22]] saved\n"
     ]
    },
    {
     "name": "stdout",
     "output_type": "stream",
     "text": [
      "G__\n",
      "__NOINDEX__\n",
      "[[Category:Episodes]]\n",
      "[[zh:MK 22]]\n"
     ]
    },
    {
     "name": "stderr",
     "output_type": "stream",
     "text": [
      "Sleeping for 8.9 seconds, 2025-07-30 10:40:56\n",
      "Page [[MK 23]] saved\n"
     ]
    },
    {
     "name": "stdout",
     "output_type": "stream",
     "text": [
      "G__\n",
      "__NOINDEX__\n",
      "[[Category:Episodes]]\n",
      "[[zh:MK 23]]\n"
     ]
    },
    {
     "name": "stderr",
     "output_type": "stream",
     "text": [
      "Sleeping for 8.9 seconds, 2025-07-30 10:41:06\n",
      "Page [[MK 24]] saved\n"
     ]
    },
    {
     "name": "stdout",
     "output_type": "stream",
     "text": [
      "G__\n",
      "__NOINDEX__\n",
      "[[Category:Episodes]]\n",
      "[[zh:MK 24]]\n"
     ]
    },
    {
     "name": "stderr",
     "output_type": "stream",
     "text": [
      "Sleeping for 9.0 seconds, 2025-07-30 10:41:16\n",
      "Page [[MK 25]] saved\n"
     ]
    },
    {
     "name": "stdout",
     "output_type": "stream",
     "text": [
      "G__\n",
      "__NOINDEX__\n",
      "[[Category:Episodes]]\n",
      "[[zh:MK 25]]\n"
     ]
    },
    {
     "name": "stderr",
     "output_type": "stream",
     "text": [
      "Sleeping for 9.0 seconds, 2025-07-30 10:41:26\n",
      "Page [[MK 26]] saved\n"
     ]
    },
    {
     "name": "stdout",
     "output_type": "stream",
     "text": [
      "G__\n",
      "__NOINDEX__\n",
      "[[Category:Episodes]]\n",
      "[[zh:MK 26]]\n"
     ]
    },
    {
     "name": "stderr",
     "output_type": "stream",
     "text": [
      "Sleeping for 9.0 seconds, 2025-07-30 10:41:36\n",
      "Page [[MK 27]] saved\n"
     ]
    },
    {
     "name": "stdout",
     "output_type": "stream",
     "text": [
      "G__\n",
      "__NOINDEX__\n",
      "[[Category:Episodes]]\n",
      "[[zh:MK 27]]\n"
     ]
    },
    {
     "name": "stderr",
     "output_type": "stream",
     "text": [
      "Sleeping for 9.0 seconds, 2025-07-30 10:41:46\n",
      "Page [[MK 28]] saved\n"
     ]
    },
    {
     "name": "stdout",
     "output_type": "stream",
     "text": [
      "G__\n",
      "__NOINDEX__\n",
      "[[Category:Episodes]]\n",
      "[[zh:MK 28]]\n"
     ]
    },
    {
     "name": "stderr",
     "output_type": "stream",
     "text": [
      "Sleeping for 8.9 seconds, 2025-07-30 10:41:56\n",
      "Page [[MK 29]] saved\n"
     ]
    },
    {
     "name": "stdout",
     "output_type": "stream",
     "text": [
      "__\n",
      "__DISAMBIG__\n",
      "[[Category:Episodes]]\n",
      "[[zh:MK 29]]\n"
     ]
    },
    {
     "name": "stderr",
     "output_type": "stream",
     "text": [
      "Sleeping for 8.8 seconds, 2025-07-30 10:42:06\n",
      "Page [[MK 30]] saved\n"
     ]
    },
    {
     "name": "stdout",
     "output_type": "stream",
     "text": [
      "G__\n",
      "__NOINDEX__\n",
      "[[Category:Episodes]]\n",
      "[[zh:MK 30]]\n"
     ]
    },
    {
     "name": "stderr",
     "output_type": "stream",
     "text": [
      "Sleeping for 8.9 seconds, 2025-07-30 10:42:16\n",
      "Page [[MK 31]] saved\n"
     ]
    },
    {
     "name": "stdout",
     "output_type": "stream",
     "text": [
      "G__\n",
      "__NOINDEX__\n",
      "[[Category:Episodes]]\n",
      "[[zh:MK 31]]\n"
     ]
    },
    {
     "name": "stderr",
     "output_type": "stream",
     "text": [
      "Sleeping for 8.9 seconds, 2025-07-30 10:42:26\n",
      "Page [[MK 32]] saved\n"
     ]
    },
    {
     "name": "stdout",
     "output_type": "stream",
     "text": [
      "G__\n",
      "__NOINDEX__\n",
      "[[Category:Episodes]]\n",
      "[[zh:MK 32]]\n"
     ]
    },
    {
     "name": "stderr",
     "output_type": "stream",
     "text": [
      "Sleeping for 9.0 seconds, 2025-07-30 10:42:36\n",
      "Page [[MK 33]] saved\n"
     ]
    },
    {
     "name": "stdout",
     "output_type": "stream",
     "text": [
      "G__\n",
      "__NOINDEX__\n",
      "[[Category:Episodes]]\n",
      "[[zh:MK 33]]\n"
     ]
    },
    {
     "name": "stderr",
     "output_type": "stream",
     "text": [
      "Sleeping for 8.9 seconds, 2025-07-30 10:42:46\n",
      "Page [[MK 34]] saved\n"
     ]
    },
    {
     "name": "stdout",
     "output_type": "stream",
     "text": [
      "G__\n",
      "__NOINDEX__\n",
      "[[Category:Episodes]]\n",
      "[[zh:MK 34]]\n"
     ]
    },
    {
     "name": "stderr",
     "output_type": "stream",
     "text": [
      "Sleeping for 8.8 seconds, 2025-07-30 10:42:56\n",
      "Page [[MK 35]] saved\n"
     ]
    },
    {
     "name": "stdout",
     "output_type": "stream",
     "text": [
      "G__\n",
      "__NOINDEX__\n",
      "[[Category:Episodes]]\n",
      "[[zh:MK 35]]\n"
     ]
    },
    {
     "name": "stderr",
     "output_type": "stream",
     "text": [
      "Sleeping for 8.9 seconds, 2025-07-30 10:43:06\n",
      "Page [[MK 36]] saved\n"
     ]
    },
    {
     "name": "stdout",
     "output_type": "stream",
     "text": [
      "oms.\n",
      "\n",
      "[[Category:Episodes]]\n",
      "__NOTOC__\n",
      "[[zh:MK 36]]\n"
     ]
    },
    {
     "name": "stderr",
     "output_type": "stream",
     "text": [
      "Sleeping for 9.0 seconds, 2025-07-30 10:43:16\n",
      "Page [[MK 37]] saved\n"
     ]
    },
    {
     "name": "stdout",
     "output_type": "stream",
     "text": [
      "025.\n",
      "\n",
      "[[Category:Episodes]]\n",
      "__NOTOC__\n",
      "[[zh:MK 37]]\n"
     ]
    },
    {
     "name": "stderr",
     "output_type": "stream",
     "text": [
      "Sleeping for 8.9 seconds, 2025-07-30 10:43:26\n",
      "Page [[MK 2.5]] saved\n"
     ]
    },
    {
     "name": "stdout",
     "output_type": "stream",
     "text": [
      "__\n",
      "__NOINDEX__\n",
      "[[Category:Bloopers]]\n",
      "[[zh:MK 2.5]]\n"
     ]
    },
    {
     "name": "stderr",
     "output_type": "stream",
     "text": [
      "Sleeping for 8.9 seconds, 2025-07-30 10:43:36\n",
      "Page [[MK 12.5]] saved\n"
     ]
    },
    {
     "name": "stdout",
     "output_type": "stream",
     "text": [
      "_\n",
      "__NOINDEX__\n",
      "[[Category:Bloopers]]\n",
      "[[zh:MK 12.5]]\n"
     ]
    },
    {
     "name": "stderr",
     "output_type": "stream",
     "text": [
      "Sleeping for 8.9 seconds, 2025-07-30 10:43:46\n",
      "ERROR: An error occurred for uri https://marble-kingdoms.fandom.com/api.php\n",
      "ERROR: Traceback (most recent call last):\n",
      "  File \"C:\\Users\\93658\\anaconda3\\Lib\\site-packages\\pywikibot\\data\\api\\_requests.py\", line 683, in _http_request\n",
      "    response = http.request(self.site, uri=uri,\n",
      "               ^^^^^^^^^^^^^^^^^^^^^^^^^^^^^^^^\n",
      "  File \"C:\\Users\\93658\\anaconda3\\Lib\\site-packages\\pywikibot\\comms\\http.py\", line 280, in request\n",
      "    r = fetch(baseuri, headers=headers, **kwargs)\n",
      "        ^^^^^^^^^^^^^^^^^^^^^^^^^^^^^^^^^^^^^^^^^\n",
      "  File \"C:\\Users\\93658\\anaconda3\\Lib\\site-packages\\pywikibot\\comms\\http.py\", line 452, in fetch\n",
      "    callback(response)\n",
      "  File \"C:\\Users\\93658\\anaconda3\\Lib\\site-packages\\pywikibot\\comms\\http.py\", line 338, in error_handling_callback\n",
      "    raise response from None\n",
      "  File \"C:\\Users\\93658\\anaconda3\\Lib\\site-packages\\pywikibot\\comms\\http.py\", line 443, in fetch\n",
      "    response = session.request(method, uri,\n",
      "               ^^^^^^^^^^^^^^^^^^^^^^^^^^^^\n",
      "  File \"C:\\Users\\93658\\anaconda3\\Lib\\site-packages\\requests\\sessions.py\", line 589, in request\n",
      "    resp = self.send(prep, **send_kwargs)\n",
      "           ^^^^^^^^^^^^^^^^^^^^^^^^^^^^^^\n",
      "  File \"C:\\Users\\93658\\anaconda3\\Lib\\site-packages\\requests\\sessions.py\", line 703, in send\n",
      "    r = adapter.send(request, **kwargs)\n",
      "        ^^^^^^^^^^^^^^^^^^^^^^^^^^^^^^^\n",
      "  File \"C:\\Users\\93658\\anaconda3\\Lib\\site-packages\\requests\\adapters.py\", line 698, in send\n",
      "    raise SSLError(e, request=request)\n",
      "requests.exceptions.SSLError: HTTPSConnectionPool(host='marble-kingdoms.fandom.com', port=443): Max retries exceeded with url: /api.php (Caused by SSLError(SSLEOFError(8, '[SSL: UNEXPECTED_EOF_WHILE_READING] EOF occurred in violation of protocol (_ssl.c:1000)')))\n",
      "\n",
      "WARNING: Waiting 5.0 seconds before retrying.\n",
      "Sleeping for 3.4 seconds, 2025-07-30 10:44:01\n",
      "Page [[MK 22.5]] saved\n"
     ]
    },
    {
     "name": "stdout",
     "output_type": "stream",
     "text": [
      "_\n",
      "__NOINDEX__\n",
      "[[Category:Bloopers]]\n",
      "[[zh:MK 22.5]]\n"
     ]
    },
    {
     "name": "stderr",
     "output_type": "stream",
     "text": [
      "Sleeping for 8.2 seconds, 2025-07-30 10:44:07\n",
      "Page [[MK 25.5]] saved\n"
     ]
    },
    {
     "name": "stdout",
     "output_type": "stream",
     "text": [
      "_\n",
      "__NOINDEX__\n",
      "[[Category:Bloopers]]\n",
      "[[zh:MK 25.5]]\n"
     ]
    },
    {
     "name": "stderr",
     "output_type": "stream",
     "text": [
      "Sleeping for 8.9 seconds, 2025-07-30 10:44:16\n",
      "Page [[MK 28.5]] saved\n"
     ]
    },
    {
     "name": "stdout",
     "output_type": "stream",
     "text": [
      "_\n",
      "__NOINDEX__\n",
      "[[Category:Bloopers]]\n",
      "[[zh:MK 28.5]]\n"
     ]
    },
    {
     "name": "stderr",
     "output_type": "stream",
     "text": [
      "Sleeping for 9.0 seconds, 2025-07-30 10:44:26\n"
     ]
    },
    {
     "name": "stdout",
     "output_type": "stream",
     "text": [
      " (MK 36.5)]]\n",
      "\n",
      "[[Category:Bloopers]]\n",
      "[[zh:MK 36.5]]\n"
     ]
    },
    {
     "name": "stderr",
     "output_type": "stream",
     "text": [
      "Page [[MK 36.5]] saved\n"
     ]
    }
   ],
   "source": [
    "ep=['MK '+str(i) for i in (list(range(1,38))+[2.5,12.5,22.5,25.5,28.5,36.5])]\n",
    "for pgname in ep:\n",
    "    page=pwb.Page(site,pgname)\n",
    "    text=page.text\n",
    "    i=-1\n",
    "    while text[i]=='\\n' or text[i]==' ':\n",
    "        i-=1\n",
    "    if i!=-1:\n",
    "        text=text[0:i+1]+'\\n[[zh:{}]]'.format(pgname)\n",
    "    else:\n",
    "        text=text+'\\n[[zh:{}]]'.format(pgname)\n",
    "    page.text=text\n",
    "    page.save('Bot: Auto Fill')\n",
    "    print(text[-50:])"
   ]
  }
 ],
 "metadata": {
  "kernelspec": {
   "display_name": "Python 3 (ipykernel)",
   "language": "python",
   "name": "python3"
  },
  "language_info": {
   "codemirror_mode": {
    "name": "ipython",
    "version": 3
   },
   "file_extension": ".py",
   "mimetype": "text/x-python",
   "name": "python",
   "nbconvert_exporter": "python",
   "pygments_lexer": "ipython3",
   "version": "3.12.7"
  }
 },
 "nbformat": 4,
 "nbformat_minor": 5
}
